{
 "cells": [
  {
   "cell_type": "markdown",
   "metadata": {
    "collapsed": true,
    "pycharm": {
     "name": "#%% md\n"
    }
   },
   "source": [
    "# **Control SDP using the Tango devices**"
   ]
  },
  {
   "cell_type": "markdown",
   "source": [
    "Controlling Science Data Processor (SDP) using Tango devices allows to directly interact with the devices such as querying,\n",
    "changing attributes and executing commands directly to Tango.\n",
    "\n",
    "The Tango devices in the SDP are:\n",
    "   - The SDP controller Tango device is designed to provide the overall control of the SDP. The commands it receives cause\n",
    "     the other SDP services to be stopped or started, and its attributes report on the overall state of the system.\n",
    "   - The SDP subarray Tango device is the principal means by which processing is initiated in the SDP.\n",
    "\n",
    "If you get stuck you can look at the official documentation pages:\n",
    " - [SDP Integration](https://developer.skao.int/projects/ska-sdp-integration/en/latest/index.html)\n",
    " - [SDP Local Monitoring and Control](https://developer.skao.int/projects/ska-sdp-lmc/en/latest/index.html)\n",
    " - [SDP Processing Scripts](https://developer.skao.int/projects/ska-sdp-script/en/latest/)\n",
    " - [SDP on the Developer Portal](https://developer.skao.int/en/latest/projects/area/sdp.html)\n",
    "\n",
    "If you still don't find the answer to your questions, contact us on Slack: #......"
   ],
   "metadata": {
    "collapsed": false,
    "pycharm": {
     "name": "#%% md\n"
    }
   }
  },
  {
   "cell_type": "code",
   "execution_count": null,
   "outputs": [],
   "source": [
    "import os\n",
    "from tango import DeviceProxy, EventType\n",
    "\n",
    "# specify here the namespace to connect in this cluster\n",
    "KUBE_NAMESPACE = \"<update-with-ns!!!>\"\n",
    "\n",
    "# set the name of the databaseds service\n",
    "DATABASEDS_NAME = \"databaseds-tango-base\"\n",
    "\n",
    "# finally set the TANGO_HOST\n",
    "os.environ[\"TANGO_HOST\"] = f\"{DATABASEDS_NAME}.{KUBE_NAMESPACE}.svc.cluster.local:10000\""
   ],
   "metadata": {
    "collapsed": false,
    "pycharm": {
     "name": "#%%\n"
    }
   }
  },
  {
   "cell_type": "code",
   "execution_count": null,
   "outputs": [],
   "source": [
    "lsdev"
   ],
   "metadata": {
    "collapsed": false,
    "pycharm": {
     "name": "#%%\n"
    }
   }
  },
  {
   "cell_type": "code",
   "execution_count": null,
   "outputs": [],
   "source": [
    "d = DeviceProxy('test-sdp/subarray/01')"
   ],
   "metadata": {
    "collapsed": false,
    "pycharm": {
     "name": "#%%\n"
    }
   }
  },
  {
   "cell_type": "code",
   "execution_count": null,
   "outputs": [],
   "source": [
    "d.state()"
   ],
   "metadata": {
    "collapsed": false,
    "pycharm": {
     "name": "#%%\n"
    }
   }
  },
  {
   "cell_type": "code",
   "execution_count": null,
   "outputs": [],
   "source": [
    "d.obsState()"
   ],
   "metadata": {
    "collapsed": false,
    "pycharm": {
     "name": "#%%\n"
    }
   }
  },
  {
   "cell_type": "code",
   "execution_count": null,
   "outputs": [],
   "source": [
    "d.obsState()"
   ],
   "metadata": {
    "collapsed": false,
    "pycharm": {
     "name": "#%%\n"
    }
   }
  },
  {
   "cell_type": "code",
   "execution_count": null,
   "outputs": [],
   "source": [
    "config_sbi = '''\n",
    "{\n",
    "   \"interface\":\"https://schema.skao.int/ska-sdp-assignres/0.3\",\n",
    "   \"eb_id\":\"eb-test-20210630-00000\",\n",
    "   \"max_length\":21600.0,\n",
    "   \"scan_types\":[\n",
    "      {\n",
    "         \"scan_type_id\":\"science\",\n",
    "         \"reference_frame\":\"ICRS\",\n",
    "         \"ra\":\"02:42:40.771\",\n",
    "         \"dec\":\"-00:00:47.84\",\n",
    "         \"channels\":[\n",
    "            {\n",
    "               \"count\":13824,\n",
    "               \"start\":0,\n",
    "               \"stride\":2,\n",
    "               \"freq_min\":0.35e9,\n",
    "               \"freq_max\":0.368e9,\n",
    "               \"link_map\":[\n",
    "                  [\n",
    "                     0,\n",
    "                     0\n",
    "                  ],\n",
    "                  [\n",
    "                     200,\n",
    "                     1\n",
    "                  ],\n",
    "                  [\n",
    "                     744,\n",
    "                     2\n",
    "                  ],\n",
    "                  [\n",
    "                     944,\n",
    "                     3\n",
    "                  ]\n",
    "               ]\n",
    "            }\n",
    "         ]\n",
    "      },\n",
    "      {\n",
    "         \"scan_type_id\":\"calibration\",\n",
    "         \"reference_frame\":\"ICRS\",\n",
    "         \"ra\":\"12:29:06.699\",\n",
    "         \"dec\":\"02:03:08.598\",\n",
    "         \"channels\":[\n",
    "            {\n",
    "               \"count\":13824,\n",
    "               \"start\":0,\n",
    "               \"stride\":2,\n",
    "               \"freq_min\":0.35e9,\n",
    "               \"freq_max\":0.368e9,\n",
    "               \"link_map\":[\n",
    "                  [\n",
    "                     0,\n",
    "                     0\n",
    "                  ],\n",
    "                  [\n",
    "                     200,\n",
    "                     1\n",
    "                  ],\n",
    "                  [\n",
    "                     744,\n",
    "                     2\n",
    "                  ],\n",
    "                  [\n",
    "                     944,\n",
    "                     3\n",
    "                  ]\n",
    "               ]\n",
    "            }\n",
    "         ]\n",
    "      }\n",
    "   ],\n",
    "   \"mccs\": {\n",
    "      \"station_ids\": [0, 1, 2, 3, 4, 5]\n",
    "   },\n",
    "   \"processing_blocks\":[\n",
    "      {\n",
    "         \"pb_id\":\"pb-test-20211111-00000\",\n",
    "         \"workflow\":{\n",
    "            \"kind\":\"realtime\",\n",
    "            \"name\":\"vis-receive\",\n",
    "            \"version\":\"0.5.1\"\n",
    "         },\n",
    "         \"parameters\": {\n",
    "            \"plasmaEnabled\": true,\n",
    "            \"transmission\": {\n",
    "               \"channels_per_stream\": 6912,\n",
    "               \"rate\": \"10416667\"\n",
    "            },\n",
    "            \"reception\": {\n",
    "               \"layout\": \"http://127.0.0.1:80/model/default/ska1_low/layout\",\n",
    "               \"schedblock\": \"/mnt/data/sb-test.json\",\n",
    "               \"num_channels\": 13824,\n",
    "               \"channels_per_stream\": 6912,\n",
    "               \"continuous_mode\": true\n",
    "            },\n",
    "            \"pvc\": {\n",
    "               \"name\": \"receive-data\"\n",
    "            },\n",
    "            \"plasma_parameters\": {\n",
    "               \"initContainers\":[\n",
    "                  {\n",
    "                     \"name\":\"existing-output-remover\",\n",
    "                     \"image\":\"artefact.skao.int/ska-sdp-realtime-receive-modules:2.1.0\",\n",
    "                     \"command\":[\"rm\", \"-rf\", \"/mnt/data/output.ms\"],\n",
    "                     \"volumeMounts\":[\n",
    "                        {\n",
    "                           \"mountPath\":\"/mnt/data\",\n",
    "                           \"name\":\"receive-data\"\n",
    "                        }\n",
    "                     ]\n",
    "                  }\n",
    "               ],\n",
    "               \"extraContainers\":[\n",
    "                  {\n",
    "                     \"name\":\"plasma-processor\",\n",
    "                     \"image\":\"artefact.skao.int/ska-sdp-realtime-receive-modules:2.1.0\",\n",
    "                     \"command\":[\n",
    "                        \"plasma-mswriter\",\n",
    "                        \"-s\",\n",
    "                        \"/plasma/socket\",\n",
    "                        \"--max_payloads\",\n",
    "                        \"12\",\n",
    "                        \"--use_plasma_ms\",\n",
    "                        \"False\",\n",
    "                        \"/mnt/data/output.ms\"\n",
    "                     ],\n",
    "                     \"volumeMounts\":[\n",
    "                        {\n",
    "                           \"name\":\"plasma-storage-volume\",\n",
    "                           \"mountPath\":\"/plasma\"\n",
    "                        },\n",
    "                        {\n",
    "                           \"mountPath\":\"/mnt/data\",\n",
    "                           \"name\":\"receive-data\"\n",
    "                        }\n",
    "                     ]\n",
    "                  },\n",
    "                  {\n",
    "                     \"name\": \"tmlite-server\",\n",
    "                     \"image\": \"artefact.skao.int/ska-sdp-tmlite-server:0.3.0\"\n",
    "                  }\n",
    "               ]\n",
    "            }\n",
    "         }\n",
    "      }\n",
    "   ]\n",
    "}\n",
    "'''"
   ],
   "metadata": {
    "collapsed": false,
    "pycharm": {
     "name": "#%%\n"
    }
   }
  },
  {
   "cell_type": "code",
   "execution_count": null,
   "outputs": [],
   "source": [
    "d.AssignResources(config_sbi)"
   ],
   "metadata": {
    "collapsed": false,
    "pycharm": {
     "name": "#%%\n"
    }
   }
  },
  {
   "cell_type": "code",
   "execution_count": null,
   "outputs": [],
   "source": [
    "d.obsState"
   ],
   "metadata": {
    "collapsed": false,
    "pycharm": {
     "name": "#%%\n"
    }
   }
  },
  {
   "cell_type": "code",
   "execution_count": null,
   "outputs": [],
   "source": [
    "d.receiveAddresses"
   ],
   "metadata": {
    "collapsed": false,
    "pycharm": {
     "name": "#%%\n"
    }
   }
  },
  {
   "cell_type": "code",
   "execution_count": null,
   "outputs": [],
   "source": [
    "d.Configure('{\"scan_type\": \"science\"}')"
   ],
   "metadata": {
    "collapsed": false,
    "pycharm": {
     "name": "#%%\n"
    }
   }
  },
  {
   "cell_type": "code",
   "execution_count": null,
   "outputs": [],
   "source": [
    "d.obsState"
   ],
   "metadata": {
    "collapsed": false,
    "pycharm": {
     "name": "#%%\n"
    }
   }
  },
  {
   "cell_type": "code",
   "execution_count": null,
   "outputs": [],
   "source": [
    "d.Scan('{\"id\": 1}')"
   ],
   "metadata": {
    "collapsed": false,
    "pycharm": {
     "name": "#%%\n"
    }
   }
  },
  {
   "cell_type": "code",
   "execution_count": null,
   "outputs": [],
   "source": [
    "d.obsState"
   ],
   "metadata": {
    "collapsed": false,
    "pycharm": {
     "name": "#%%\n"
    }
   }
  },
  {
   "cell_type": "code",
   "execution_count": null,
   "outputs": [],
   "source": [
    "d.EndScan()"
   ],
   "metadata": {
    "collapsed": false,
    "pycharm": {
     "name": "#%%\n"
    }
   }
  },
  {
   "cell_type": "code",
   "execution_count": null,
   "outputs": [],
   "source": [
    "d.obsState"
   ],
   "metadata": {
    "collapsed": false,
    "pycharm": {
     "name": "#%%\n"
    }
   }
  },
  {
   "cell_type": "code",
   "execution_count": null,
   "outputs": [],
   "source": [
    "d.End()"
   ],
   "metadata": {
    "collapsed": false,
    "pycharm": {
     "name": "#%%\n"
    }
   }
  },
  {
   "cell_type": "code",
   "execution_count": null,
   "outputs": [],
   "source": [
    "d.obsState"
   ],
   "metadata": {
    "collapsed": false,
    "pycharm": {
     "name": "#%%\n"
    }
   }
  },
  {
   "cell_type": "code",
   "execution_count": null,
   "outputs": [],
   "source": [
    "d.ReleaseResources()"
   ],
   "metadata": {
    "collapsed": false,
    "pycharm": {
     "name": "#%%\n"
    }
   }
  },
  {
   "cell_type": "code",
   "execution_count": null,
   "outputs": [],
   "source": [
    "d.obsState"
   ],
   "metadata": {
    "collapsed": false,
    "pycharm": {
     "name": "#%%\n"
    }
   }
  },
  {
   "cell_type": "code",
   "execution_count": null,
   "outputs": [],
   "source": [
    "d.Off()"
   ],
   "metadata": {
    "collapsed": false,
    "pycharm": {
     "name": "#%%\n"
    }
   }
  },
  {
   "cell_type": "code",
   "execution_count": null,
   "outputs": [],
   "source": [
    "d.state()"
   ],
   "metadata": {
    "collapsed": false,
    "pycharm": {
     "name": "#%%\n"
    }
   }
  },
  {
   "cell_type": "markdown",
   "source": [
    "More details about each of the SDP Subarray commands can be found here [here](https://developer.skao.int/projects/ska-sdp-lmc/en/latest/sdp_subarray.html)"
   ],
   "metadata": {
    "collapsed": false,
    "pycharm": {
     "name": "#%% md\n"
    }
   }
  }
 ],
 "metadata": {
  "kernelspec": {
   "display_name": "Python 3",
   "language": "python",
   "name": "python3"
  },
  "language_info": {
   "codemirror_mode": {
    "name": "ipython",
    "version": 2
   },
   "file_extension": ".py",
   "mimetype": "text/x-python",
   "name": "python",
   "nbconvert_exporter": "python",
   "pygments_lexer": "ipython2",
   "version": "2.7.6"
  }
 },
 "nbformat": 4,
 "nbformat_minor": 0
}