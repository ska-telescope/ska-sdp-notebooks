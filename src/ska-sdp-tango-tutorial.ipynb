{
 "cells": [
  {
   "cell_type": "markdown",
   "metadata": {
    "collapsed": true,
    "pycharm": {
     "name": "#%% md\n"
    }
   },
   "source": [
    "# **Control SDP using the Tango devices**"
   ]
  },
  {
   "cell_type": "markdown",
   "source": [
    "Controlling Science Data Processor (SDP) using Tango devices allows to directly interact with the devices such as querying,\n",
    "changing attributes and executing commands directly to Tango.\n",
    "\n",
    "The Tango devices in the SDP are:\n",
    "   - The SDP controller Tango device is designed to provide the overall control of the SDP. The commands it receives cause\n",
    "     the other SDP services to be stopped or started, and its attributes report on the overall state of the system.\n",
    "   - The SDP subarray Tango device is the principal means by which processing is initiated in the SDP.\n",
    "\n",
    "If you get stuck you can look at the official documentation pages:\n",
    " - [SDP Integration](https://developer.skao.int/projects/ska-sdp-integration/en/latest/index.html)\n",
    " - [SDP Local Monitoring and Control](https://developer.skao.int/projects/ska-sdp-lmc/en/latest/index.html)\n",
    " - [SDP Processing Scripts](https://developer.skao.int/projects/ska-sdp-script/en/latest/)\n",
    " - [SDP on the Developer Portal](https://developer.skao.int/en/latest/projects/area/sdp.html)\n",
    "\n",
    "If you still don't find the answer to your questions, contact us on Slack: #......\n"
   ],
   "metadata": {
    "collapsed": false,
    "pycharm": {
     "name": "#%% md\n"
    }
   }
  },
  {
   "cell_type": "markdown",
   "source": [
    "## 1. Import packages and set environments\n",
    "\n",
    "SDP contains Tango device servers which control different aspects of the system. The SDP Controller device\n",
    "provides the top-level control of the system. The SDP Subarray device controls the processing associated\n",
    "with a telescope subarray.\n",
    "\n",
    "Each Tango Controls system/deployment has to have at least one running `databaseds` device server. The machine on which\n",
    "`databaseds` device server is running has a role called Tango Host. `Databaseds` is a device server providing\n",
    "configuration information to all other components of the system as well as a runtime catalog of the components/devices.\n",
    "It allows client applications to find devices in distributed environment. `TANGO_HOST` environment variable would need\n",
    "to be set to point to a remote host that is running the Configuration database.\n",
    "\n",
    "Import all the required packages and define `namespace`, `databaseds` service and set the `TANGO_HOST`."
   ],
   "metadata": {
    "collapsed": false
   }
  },
  {
   "cell_type": "code",
   "execution_count": null,
   "outputs": [],
   "source": [
    "import os\n",
    "from tango import DeviceProxy, EventType\n",
    "\n",
    "# specify here the namespace to connect in this cluster\n",
    "KUBE_NAMESPACE = \"<update-with-ns!!!>\"\n",
    "\n",
    "# set the name of the databaseds service\n",
    "DATABASEDS_NAME = \"databaseds-tango-base\"\n",
    "\n",
    "# finally set the TANGO_HOST\n",
    "os.environ[\"TANGO_HOST\"] = f\"{DATABASEDS_NAME}.{KUBE_NAMESPACE}.svc.cluster.local:10000\"\n"
   ],
   "metadata": {
    "collapsed": false,
    "pycharm": {
     "name": "#%%\n"
    }
   }
  },
  {
   "cell_type": "markdown",
   "source": [
    "## 2. Accessing the Tango Interface\n",
    "\n",
    "Let's start by obtaining a handle of the subarray tango device:"
   ],
   "metadata": {
    "collapsed": false
   }
  },
  {
   "cell_type": "code",
   "execution_count": null,
   "outputs": [],
   "source": [
    "d = DeviceProxy('test-sdp/subarray/02')"
   ],
   "metadata": {
    "collapsed": false,
    "pycharm": {
     "name": "#%%\n"
    }
   }
  },
  {
   "cell_type": "markdown",
   "source": [
    "Let's check the state of the device"
   ],
   "metadata": {
    "collapsed": false
   }
  },
  {
   "cell_type": "code",
   "execution_count": null,
   "outputs": [],
   "source": [
    "d.state()"
   ],
   "metadata": {
    "collapsed": false,
    "pycharm": {
     "name": "#%%\n"
    }
   }
  },
  {
   "cell_type": "markdown",
   "source": [
    "The device should be in `OFF` state. This means the device is in inactive state\n",
    "\n",
    "Let's check subarray observing state"
   ],
   "metadata": {
    "collapsed": false
   }
  },
  {
   "cell_type": "code",
   "execution_count": null,
   "outputs": [],
   "source": [
    "d.obsState"
   ],
   "metadata": {
    "collapsed": false,
    "pycharm": {
     "name": "#%%\n"
    }
   }
  },
  {
   "cell_type": "markdown",
   "source": [
    "The above output would be `EMPTY`. This means no receive and real-time processing resources are assigned to the subarray\n",
    "\n",
    "Going to set the device into its operational state"
   ],
   "metadata": {
    "collapsed": false
   }
  },
  {
   "cell_type": "code",
   "source": [
    "d.On()\n",
    "d.state()"
   ],
   "metadata": {
    "collapsed": false,
    "pycharm": {
     "name": "#%%\n"
    }
   },
   "execution_count": null,
   "outputs": []
  },
  {
   "cell_type": "markdown",
   "source": [
    "The state should now be in `ON`. This means it has now been transitioned to operational state.\n",
    "\n",
    "Now, we need to start the execution block using the `AssignResources` command. It takes an argument which\n",
    "contains configuration data in JSON format. The data are described by a schema which is versioned to support\n",
    "evolution of the interfaces. The schema is specified in the argument with the interface keyword. The configuration\n",
    "string defines scan types and processing blocks (real-time and batch).\n",
    "\n",
    "Below shows the configuration string for the execution block. This configuration string runs one realtime (test_receive_addresses)\n",
    "and one batch processing (test_dask) processing scripts.\n",
    "\n",
    "The `test_receive_addresses` script is designed to test the mechanism for generating SDP receive addresses from the channel\n",
    "link map for each scan type which is contained in the list of scan types in the execution block (EB).\n",
    "This address map get published to the appropriate attribute once the SDP subarray finishes the transition following AssignResources.\n",
    "\n",
    "The `test-dask` script is designed to test deploying two instances of a Dask execution engine and executing a simple function on each one.\n",
    "\n",
    "More details about other processing scripts can be found\n",
    "[here](https://developer.skao.int/projects/ska-sdp-script/en/latest/).\n"
   ],
   "metadata": {
    "collapsed": false
   }
  },
  {
   "cell_type": "code",
   "execution_count": null,
   "outputs": [],
   "source": [
    "import json\n",
    "import random\n",
    "from datetime import date\n",
    "\n",
    "generator = \"notebook\"\n",
    "today = date.today().strftime(\"%Y%m%d\")\n",
    "number = random.randint(0, 99998)\n",
    "\n",
    "EXECUTION_BLOCK_ID = f\"eb-{generator}-{today}-{number:05d}\"\n",
    "PROCESSING_BLOCK_ID_REALTIME = f\"pb-{generator}-{today}-{number:05d}\"\n",
    "PROCESSING_BLOCK_ID_BATCH = f\"pb-{generator}-{today}-{number+1:05d}\"\n",
    "\n",
    "\n",
    "config = {\n",
    "  \"interface\": \"https://schema.skao.int/ska-sdp-assignres/0.3\",\n",
    "  \"eb_id\":f\"{EXECUTION_BLOCK_ID}\",\n",
    "  \"max_length\": 21600.0,\n",
    "  \"scan_types\": [\n",
    "    {\n",
    "      \"scan_type_id\": \"science\",\n",
    "      \"coordinate_system\": \"ICRS\", \"ra\": \"02:42:40.771\", \"dec\": \"-00:00:47.84\",\n",
    "      \"channels\": [\n",
    "        { \"count\": 10, \"start\": 0, \"stride\": 2, \"freq_min\": 0.35e9, \"freq_max\": 0.368e9, \"link_map\": [[0,0], [200,1], [744,2], [944,3]] },\n",
    "      ]\n",
    "    },\n",
    "    {\n",
    "      \"scan_type_id\": \"calibration\",\n",
    "      \"coordinate_system\": \"ICRS\", \"ra\": \"12:29:06.699\", \"dec\": \"02:03:08.598\",\n",
    "      \"channels\": [\n",
    "        { \"count\": 5, \"start\": 0, \"stride\": 2, \"freq_min\": 0.35e9, \"freq_max\": 0.368e9, \"link_map\": [[0,0], [200,1], [744,2], [944,3]] },\n",
    "      ]\n",
    "    }\n",
    "  ],\n",
    "  \"processing_blocks\": [\n",
    "    {\n",
    "      \"pb_id\": f\"{PROCESSING_BLOCK_ID_REALTIME}\",\n",
    "      \"workflow\": {\"kind\": \"realtime\", \"name\": \"test-receive-addresses\", \"version\": \"0.4.0\"},\n",
    "    },\n",
    "    {\n",
    "      \"pb_id\": f\"{PROCESSING_BLOCK_ID_BATCH}\",\n",
    "      \"workflow\": {\"kind\": \"batch\", \"name\": \"test-dask\", \"version\": \"0.3.0\"},\n",
    "      \"parameters\": {},\n",
    "      \"dependencies\": [\n",
    "        {\"pb_id\": f\"{PROCESSING_BLOCK_ID_REALTIME}\", \"kind\": [\"calibration\"]}\n",
    "      ]\n",
    "    }\n",
    "  ]\n",
    "}\n",
    "\n",
    "config_eb = json.dumps(config)"
   ],
   "metadata": {
    "collapsed": false,
    "pycharm": {
     "name": "#%%\n"
    }
   }
  },
  {
   "cell_type": "markdown",
   "source": [
    "The `AssignResources` command assigns resources to the subarray, creates the execution block and the processing blocks\n",
    "and sets receive addresses.\n",
    "The `obsState` will be in `RESOURCING` when the resources are being assigned and then will be set to `IDLE`\n",
    "once the receive and real-time processing resources are assigned to the subarray as specified in the execution block."
   ],
   "metadata": {
    "collapsed": false,
    "pycharm": {
     "name": "#%% md\n"
    }
   }
  },
  {
   "cell_type": "code",
   "execution_count": null,
   "outputs": [],
   "source": [
    "d.AssignResources(config_eb)"
   ],
   "metadata": {
    "collapsed": false,
    "pycharm": {
     "name": "#%%\n"
    }
   }
  },
  {
   "cell_type": "markdown",
   "source": [
    "Once the command above is executed, you need to wait until the `obsState` is set to `IDLE`.\n"
   ],
   "metadata": {
    "collapsed": false,
    "pycharm": {
     "name": "#%% md\n"
    }
   }
  },
  {
   "cell_type": "code",
   "execution_count": null,
   "outputs": [],
   "source": [
    "d.obsState"
   ],
   "metadata": {
    "collapsed": false,
    "pycharm": {
     "name": "#%%\n"
    }
   }
  },
  {
   "cell_type": "markdown",
   "source": [
    "Let's check if the `receiveAddresses` attribute is set with the host addresses and ports for receiving visibilities."
   ],
   "metadata": {
    "collapsed": false
   }
  },
  {
   "cell_type": "code",
   "execution_count": null,
   "outputs": [],
   "source": [
    "d.receiveAddresses"
   ],
   "metadata": {
    "collapsed": false,
    "pycharm": {
     "name": "#%%\n"
    }
   }
  },
  {
   "cell_type": "markdown",
   "source": [
    "The `Configure` command configures scan type for the following scans. The argument it takes specifies the scan type.\n",
    "It can declare new scan types to add the ones already defined for the execution block."
   ],
   "metadata": {
    "collapsed": false,
    "pycharm": {
     "name": "#%% md\n"
    }
   }
  },
  {
   "cell_type": "code",
   "execution_count": null,
   "outputs": [],
   "source": [
    "d.Configure('{\"interface\": \"https://schema.skao.int/ska-sdp-configure/0.3\", \"scan_type\": \"science\"}')\n",
    "d.obsState"
   ],
   "metadata": {
    "collapsed": false,
    "pycharm": {
     "name": "#%%\n"
    }
   }
  },
  {
   "cell_type": "markdown",
   "source": [
    "The `obsState` will be transitioning from `CONFIGURING` when the scan type is being configured and will\n",
    "be set to `READY` when the scan type is configured and the subarray is ready to scan.\n",
    "\n",
    "The `Scan` command begins a scan of the configured type. The argument it takes specifies the scan ID."
   ],
   "metadata": {
    "collapsed": false,
    "pycharm": {
     "name": "#%% md\n"
    }
   }
  },
  {
   "cell_type": "code",
   "execution_count": null,
   "outputs": [],
   "source": [
    "d.Scan('{\"interface\": \"https://schema.skao.int/ska-sdp-scan/0.3\", \"scan_id\": 1}')\n",
    "d.obsState"
   ],
   "metadata": {
    "collapsed": false,
    "pycharm": {
     "name": "#%%\n"
    }
   }
  },
  {
   "cell_type": "markdown",
   "source": [
    "The `obsState` will be set to `SCANNING` and it begins scanning.\n",
    "\n",
    "To end the scan, run the following command."
   ],
   "metadata": {
    "collapsed": false,
    "pycharm": {
     "name": "#%% md\n"
    }
   }
  },
  {
   "cell_type": "code",
   "execution_count": null,
   "outputs": [],
   "source": [
    "d.EndScan()\n",
    "d.obsState"
   ],
   "metadata": {
    "collapsed": false,
    "pycharm": {
     "name": "#%%\n"
    }
   }
  },
  {
   "cell_type": "markdown",
   "source": [
    "The `obsState` will be set to `READY`.\n",
    "\n",
    "To clear the scan type, run the `End` command."
   ],
   "metadata": {
    "collapsed": false
   }
  },
  {
   "cell_type": "code",
   "execution_count": null,
   "outputs": [],
   "source": [
    "d.End()\n",
    "d.obsState"
   ],
   "metadata": {
    "collapsed": false,
    "pycharm": {
     "name": "#%%\n"
    }
   }
  },
  {
   "cell_type": "markdown",
   "source": [
    "The `obsState` should be set to `IDLE`.\n",
    "\n",
    "To end the execution block and to release all the real-time processing in the subarray run the following command.\n",
    "This ends the real-time processing blocks and batch processing starts once when the resources are available.\n"
   ],
   "metadata": {
    "collapsed": false,
    "pycharm": {
     "name": "#%% md\n"
    }
   }
  },
  {
   "cell_type": "code",
   "execution_count": null,
   "outputs": [],
   "source": [
    "d.ReleaseResources()"
   ],
   "metadata": {
    "collapsed": false,
    "pycharm": {
     "name": "#%%\n"
    }
   }
  },
  {
   "cell_type": "code",
   "execution_count": null,
   "outputs": [],
   "source": [
    "d.obsState"
   ],
   "metadata": {
    "collapsed": false,
    "pycharm": {
     "name": "#%%\n"
    }
   }
  },
  {
   "cell_type": "markdown",
   "source": [
    "In this case the `obsState` will be transitioning from `RESOURCING` to `EMPTY` which means no real-time processing\n",
    "resources are assigned to the subarray.\n",
    "\n",
    "The batch processing script will run until it's carried out the sequence of actions and will finish automatically.\n",
    "\n",
    "To set the device to inactive state (or turn the device off), run the following command"
   ],
   "metadata": {
    "collapsed": false,
    "pycharm": {
     "name": "#%% md\n"
    }
   }
  },
  {
   "cell_type": "code",
   "source": [
    "d.Off()\n",
    "d.state()"
   ],
   "metadata": {
    "collapsed": false,
    "pycharm": {
     "name": "#%%\n"
    }
   },
   "execution_count": null,
   "outputs": []
  },
  {
   "cell_type": "markdown",
   "source": [
    "The state should be set to `OFF`.\n",
    "\n",
    "More details about each of the SDP Subarray commands can be found in the [LMC documentation](https://developer.skao.int/projects/ska-sdp-lmc/en/latest/sdp_subarray.html)"
   ],
   "metadata": {
    "collapsed": false,
    "pycharm": {
     "name": "#%% md\n"
    }
   }
  },
  {
   "cell_type": "markdown",
   "source": [
    "More details about each of the SDP Subarray commands can be found here [here](https://developer.skao.int/projects/ska-sdp-lmc/en/latest/sdp_subarray.html)"
   ],
   "metadata": {
    "collapsed": false,
    "pycharm": {
     "name": "#%% md\n"
    }
   }
  }
 ],
 "metadata": {
  "kernelspec": {
   "display_name": "Python 3",
   "language": "python",
   "name": "python3"
  },
  "language_info": {
   "codemirror_mode": {
    "name": "ipython",
    "version": 2
   },
   "file_extension": ".py",
   "mimetype": "text/x-python",
   "name": "python",
   "nbconvert_exporter": "python",
   "pygments_lexer": "ipython2",
   "version": "2.7.6"
  }
 },
 "nbformat": 4,
 "nbformat_minor": 0
}