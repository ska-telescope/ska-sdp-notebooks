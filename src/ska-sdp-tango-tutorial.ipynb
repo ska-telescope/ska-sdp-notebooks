{
 "cells": [
  {
   "cell_type": "markdown",
   "metadata": {
    "collapsed": true,
    "pycharm": {
     "name": "#%% md\n"
    }
   },
   "source": [
    "# **Control SDP using the Tango devices**"
   ]
  },
  {
   "cell_type": "markdown",
   "source": [
    "Controlling Science Data Processor (SDP) using Tango devices allows to directly interact with the devices such as querying,\n",
    "changing attributes and executing commands directly to Tango.\n",
    "\n",
    "The Tango devices in the SDP are:\n",
    "   - The SDP controller Tango device is designed to provide the overall control of the SDP. The commands it receives cause\n",
    "     the other SDP services to be stopped or started, and its attributes report on the overall state of the system.\n",
    "   - The SDP subarray Tango device is the principal means by which processing is initiated in the SDP.\n",
    "\n",
    "If you get stuck you can look at the official documentation pages:\n",
    " - [SDP Integration](https://developer.skao.int/projects/ska-sdp-integration/en/latest/index.html)\n",
    " - [SDP Local Monitoring and Control](https://developer.skao.int/projects/ska-sdp-lmc/en/latest/index.html)\n",
    " - [SDP Processing Scripts](https://developer.skao.int/projects/ska-sdp-script/en/latest/)\n",
    " - [SDP on the Developer Portal](https://developer.skao.int/en/latest/projects/area/sdp.html)\n",
    "\n",
    "If you still don't find the answer to your questions, contact us on Slack: #......\n"
   ],
   "metadata": {
    "collapsed": false,
    "pycharm": {
     "name": "#%% md\n"
    }
   }
  },
  {
   "cell_type": "markdown",
   "source": [
    "## 1. Import packages and set environments\n",
    "\n",
    "Import all the required packages and define namespace and databaseds service."
   ],
   "metadata": {
    "collapsed": false
   }
  },
  {
   "cell_type": "code",
   "execution_count": null,
   "outputs": [],
   "source": [
    "import os\n",
    "from tango import DeviceProxy, EventType\n",
    "\n",
    "# specify here the namespace to connect in this cluster\n",
    "KUBE_NAMESPACE = \"<update-with-ns!!!>\"\n",
    "\n",
    "# set the name of the databaseds service\n",
    "DATABASEDS_NAME = \"databaseds-tango-base\"\n",
    "\n",
    "# finally set the TANGO_HOST\n",
    "os.environ[\"TANGO_HOST\"] = f\"{DATABASEDS_NAME}.{KUBE_NAMESPACE}.svc.cluster.local:10000\""
   ],
   "metadata": {
    "collapsed": false,
    "pycharm": {
     "name": "#%%\n"
    }
   }
  },
  {
   "cell_type": "markdown",
   "source": [
    "## 2. Accessing the Tango Interface\n",
    "\n",
    "Let's start by obtaining a handle of the subarray tango device:"
   ],
   "metadata": {
    "collapsed": false
   }
  },
  {
   "cell_type": "code",
   "execution_count": null,
   "outputs": [],
   "source": [
    "d = DeviceProxy('test-sdp/subarray/02')"
   ],
   "metadata": {
    "collapsed": false,
    "pycharm": {
     "name": "#%%\n"
    }
   }
  },
  {
   "cell_type": "markdown",
   "source": [
    "Let's check the state of the device"
   ],
   "metadata": {
    "collapsed": false
   }
  },
  {
   "cell_type": "code",
   "execution_count": null,
   "outputs": [],
   "source": [
    "d.state()"
   ],
   "metadata": {
    "collapsed": false,
    "pycharm": {
     "name": "#%%\n"
    }
   }
  },
  {
   "cell_type": "markdown",
   "source": [
    "The device should be in `OFF` state. This means the device is in inactive state\n",
    "\n",
    "Let's check subarray observing state"
   ],
   "metadata": {
    "collapsed": false
   }
  },
  {
   "cell_type": "code",
   "execution_count": null,
   "outputs": [],
   "source": [
    "d.obsState"
   ],
   "metadata": {
    "collapsed": false,
    "pycharm": {
     "name": "#%%\n"
    }
   }
  },
  {
   "cell_type": "markdown",
   "source": [
    "The above output would be `EMPTY`. This means no receive and real-time processing resources are assigned to the subarray\n",
    "\n",
    "Going to set the device into its operational state"
   ],
   "metadata": {
    "collapsed": false
   }
  },
  {
   "cell_type": "code",
   "source": [
    "d.On()\n",
    "d.state()"
   ],
   "metadata": {
    "collapsed": false,
    "pycharm": {
     "name": "#%%\n"
    }
   },
   "execution_count": null,
   "outputs": []
  },
  {
   "cell_type": "markdown",
   "source": [
    "The state should now be in `ON`. This means it has now been transitioned to operational state.\n",
    "\n",
    "Now, we need to start the execution block using the `AssignResources` command. It takes an arguments which\n",
    "contains configuration data in JSON format. The data are described by a schema which is versioned to support\n",
    "evolution of the interfaces. The schema is specified in the argument with the interface keyword. The configuration\n",
    "string to the command which defines scan types and processing blocks (real-time and batch).\n",
    "\n",
    "Here is the configuration string for the execution block."
   ],
   "metadata": {
    "collapsed": false
   }
  },
  {
   "cell_type": "code",
   "execution_count": null,
   "outputs": [],
   "source": [
    "import json\n",
    "import random\n",
    "from datetime import date\n",
    "\n",
    "generator = \"notebook\"\n",
    "today = date.today().strftime(\"%Y%m%d\")\n",
    "number = random.randint(0, 99999)\n",
    "\n",
    "EXECUTION_BLOCK_ID = f\"eb-{generator}-{today}-{number:05d}\"\n",
    "PROCESSING_BLOCK_ID = f\"pb-{generator}-{today}-{number:05d}\"\n",
    "\n",
    "config = \\\n",
    "{\n",
    "   \"interface\":\"https://schema.skao.int/ska-sdp-assignres/0.3\",\n",
    "   \"eb_id\":f\"{EXECUTION_BLOCK_ID}\",\n",
    "   \"max_length\":21600.0,\n",
    "   \"scan_types\":[\n",
    "      {\n",
    "         \"scan_type_id\":\"science\",\n",
    "         \"reference_frame\":\"ICRS\",\n",
    "         \"ra\":\"02:42:40.771\",\n",
    "         \"dec\":\"-00:00:47.84\",\n",
    "         \"channels\":[\n",
    "            {\n",
    "               \"count\":13824,\n",
    "               \"count\":5,\n",
    "               \"start\":0,\n",
    "               \"stride\":2,\n",
    "               \"freq_min\":0.35e9,\n",
    "               \"freq_max\":0.368e9,\n",
    "               \"link_map\":[\n",
    "                  [\n",
    "                     0,\n",
    "                     0\n",
    "                  ],\n",
    "                  [\n",
    "                     200,\n",
    "                     1\n",
    "                  ],\n",
    "                  [\n",
    "                     744,\n",
    "                     2\n",
    "                  ],\n",
    "                  [\n",
    "                     944,\n",
    "                     3\n",
    "                  ]\n",
    "               ]\n",
    "            }\n",
    "         ]\n",
    "      },\n",
    "      {\n",
    "         \"scan_type_id\":\"calibration\",\n",
    "         \"reference_frame\":\"ICRS\",\n",
    "         \"ra\":\"12:29:06.699\",\n",
    "         \"dec\":\"02:03:08.598\",\n",
    "         \"channels\":[\n",
    "            {\n",
    "               \"count\":13824,\n",
    "               \"count\":5,\n",
    "               \"start\":0,\n",
    "               \"stride\":2,\n",
    "               \"freq_min\":0.35e9,\n",
    "               \"freq_max\":0.368e9,\n",
    "               \"link_map\":[\n",
    "                  [\n",
    "                     0,\n",
    "                     0\n",
    "                  ],\n",
    "                  [\n",
    "                     200,\n",
    "                     1\n",
    "                  ],\n",
    "                  [\n",
    "                     744,\n",
    "                     2\n",
    "                  ],\n",
    "                  [\n",
    "                     944,\n",
    "                     3\n",
    "                  ]\n",
    "               ]\n",
    "            }\n",
    "         ]\n",
    "      }\n",
    "   ],\n",
    "   \"mccs\": {\n",
    "      \"station_ids\": [0, 1, 2, 3, 4, 5]\n",
    "   },\n",
    "   \"processing_blocks\":[\n",
    "      {\n",
    "         \"pb_id\": f\"{PROCESSING_BLOCK_ID}\",\n",
    "         \"workflow\":{\n",
    "            \"kind\":\"realtime\",\n",
    "            \"name\":\"vis-receive\",\n",
    "            \"version\":\"0.5.1\"\n",
    "         },\n",
    "         \"parameters\": {\n",
    "            \"plasmaEnabled\": True,\n",
    "            \"transmission\": {\n",
    "               \"channels_per_stream\": 6912,\n",
    "               \"rate\": \"10416667\"\n",
    "            },\n",
    "            \"reception\": {\n",
    "               \"layout\": \"http://127.0.0.1:80/model/default/ska1_low/layout\",\n",
    "               \"schedblock\": \"/mnt/data/sb-test.json\",\n",
    "               \"continuous_mode\": True\n",
    "            },\n",
    "            \"pvc\": {\n",
    "               \"name\": \"receive-data\"\n",
    "            },\n",
    "            \"plasma_parameters\": {\n",
    "               \"initContainers\":[\n",
    "                  {\n",
    "                     \"name\":\"existing-output-remover\",\n",
    "                     \"image\":\"artefact.skao.int/ska-sdp-realtime-receive-modules:2.1.0\",\n",
    "                     \"command\":[\"rm\", \"-rf\", \"/mnt/data/output.ms\"],\n",
    "                     \"volumeMounts\":[\n",
    "                        {\n",
    "                           \"mountPath\":\"/mnt/data\",\n",
    "                           \"name\":\"receive-data\"\n",
    "                        }\n",
    "                     ]\n",
    "                  }\n",
    "               ],\n",
    "               \"extraContainers\":[\n",
    "                  {\n",
    "                     \"name\":\"plasma-processor\",\n",
    "                     \"image\":\"artefact.skao.int/ska-sdp-realtime-receive-modules:2.1.0\",\n",
    "                     \"command\":[\n",
    "                        \"plasma-mswriter\",\n",
    "                        \"-s\",\n",
    "                        \"/plasma/socket\",\n",
    "                        \"--max_payloads\",\n",
    "                        \"12\",\n",
    "                        \"--use_plasma_ms\",\n",
    "                        \"False\",\n",
    "                        \"/mnt/data/output.ms\"\n",
    "                     ],\n",
    "                     \"volumeMounts\":[\n",
    "                        {\n",
    "                           \"name\":\"plasma-storage-volume\",\n",
    "                           \"mountPath\":\"/plasma\"\n",
    "                        },\n",
    "                        {\n",
    "                           \"mountPath\":\"/mnt/data\",\n",
    "                           \"name\":\"receive-data\"\n",
    "                        }\n",
    "                     ]\n",
    "                  },\n",
    "                  {\n",
    "                     \"name\": \"tmlite-server\",\n",
    "                     \"image\": \"artefact.skao.int/ska-sdp-tmlite-server:0.3.0\"\n",
    "                  }\n",
    "               ]\n",
    "            }\n",
    "         }\n",
    "      }\n",
    "   ]\n",
    "}\n",
    "\n",
    "config_eb = json.dumps(config)"
   ],
   "metadata": {
    "collapsed": false,
    "pycharm": {
     "name": "#%% python\n"
    }
   }
  },
  {
   "cell_type": "markdown",
   "source": [
    "The `AssignResources` command processes resources to the subarray and sets receive addresses.\n",
    "The `obsState` will be in `RESOURCING` when the resources are being assigned and then will be set to `IDLE`\n",
    "once the receive and real-time processing resources are assigned to the subarray as specified in the execution block."
   ],
   "metadata": {
    "collapsed": false,
    "pycharm": {
     "name": "#%% md\n"
    }
   }
  },
  {
   "cell_type": "code",
   "execution_count": null,
   "outputs": [],
   "source": [
    "d.AssignResources(config_eb)"
   ],
   "metadata": {
    "collapsed": false,
    "pycharm": {
     "name": "#%%\n"
    }
   }
  },
  {
   "cell_type": "markdown",
   "source": [
    "Once the command above is executed, need to wait until the `obsState` is set to `IDLE`."
   ],
   "metadata": {
    "collapsed": false,
    "pycharm": {
     "name": "#%% md\n"
    }
   }
  },
  {
   "cell_type": "code",
   "execution_count": null,
   "outputs": [],
   "source": [
    "d.obsState"
   ],
   "metadata": {
    "collapsed": false,
    "pycharm": {
     "name": "#%%\n"
    }
   }
  },
  {
   "cell_type": "markdown",
   "source": [
    "Let's check if the `receiveAddresses` attribute is set with the host addresses and ports for receiving visibilities."
   ],
   "metadata": {
    "collapsed": false
   }
  },
  {
   "cell_type": "code",
   "execution_count": null,
   "outputs": [],
   "source": [
    "d.receiveAddresses"
   ],
   "metadata": {
    "collapsed": false,
    "pycharm": {
     "name": "#%%\n"
    }
   }
  },
  {
   "cell_type": "markdown",
   "source": [
    "The `Configure` command configures scan type for the following scans. The argument it takes specifies the scan type.\n",
    "It can declare new scan types to add the ones already defined for the execution block."
   ],
   "metadata": {
    "collapsed": false,
    "pycharm": {
     "name": "#%% md\n"
    }
   }
  },
  {
   "cell_type": "code",
   "execution_count": null,
   "outputs": [],
   "source": [
    "d.Configure('{\"interface\": \"https://schema.skao.int/ska-sdp-configure/0.3\", \"scan_type\": \"science\"}')\n",
    "d.obsState"
   ],
   "metadata": {
    "collapsed": false,
    "pycharm": {
     "name": "#%%\n"
    }
   }
  },
  {
   "cell_type": "markdown",
   "source": [
    "The `obsState` will be transitioning from `CONFIGURING` when the scan type is being configured and will\n",
    "be set to `READY` when the scan type is configured and the subarray is ready to scan.\n",
    "\n",
    "The `Scan` command begins a scan of the configured type. The argument it takes specifies the scan ID."
   ],
   "metadata": {
    "collapsed": false,
    "pycharm": {
     "name": "#%% md\n"
    }
   }
  },
  {
   "cell_type": "code",
   "execution_count": null,
   "outputs": [],
   "source": [
    "d.Scan('{\"interface\": \"https://schema.skao.int/ska-sdp-scan/0.3\", \"scan_id\": 1}')\n",
    "d.obsState"
   ],
   "metadata": {
    "collapsed": false,
    "pycharm": {
     "name": "#%%\n"
    }
   }
  },
  {
   "cell_type": "markdown",
   "source": [
    "The `obsState` will be set to `SCANNING` and it begins scanning.\n",
    "\n",
    "To end the scan, run the following command."
   ],
   "metadata": {
    "collapsed": false,
    "pycharm": {
     "name": "#%% md\n"
    }
   }
  },
  {
   "cell_type": "code",
   "execution_count": null,
   "outputs": [],
   "source": [
    "d.EndScan()\n",
    "d.obsState"
   ],
   "metadata": {
    "collapsed": false,
    "pycharm": {
     "name": "#%%\n"
    }
   }
  },
  {
   "cell_type": "markdown",
   "source": [
    "The `obsState` will be set to `READY`.\n",
    "\n",
    "To clear the scan type, run the `End` command."
   ],
   "metadata": {
    "collapsed": false
   }
  },
  {
   "cell_type": "code",
   "execution_count": null,
   "outputs": [],
   "source": [
    "d.End()\n",
    "d.obsState"
   ],
   "metadata": {
    "collapsed": false,
    "pycharm": {
     "name": "#%%\n"
    }
   }
  },
  {
   "cell_type": "markdown",
   "source": [
    "The `obsState` should be set to `IDLE`.\n",
    "\n",
    "To end the execution block and to release all the real-time processing in the subarray run the following command.\n",
    "This ends the real-time processing blocks and batch processing starts once when the resources are available."
   ],
   "metadata": {
    "collapsed": false,
    "pycharm": {
     "name": "#%% md\n"
    }
   }
  },
  {
   "cell_type": "code",
   "execution_count": null,
   "outputs": [],
   "source": [
    "d.ReleaseResources()"
   ],
   "metadata": {
    "collapsed": false,
    "pycharm": {
     "name": "#%%\n"
    }
   }
  },
  {
   "cell_type": "code",
   "execution_count": null,
   "outputs": [],
   "source": [
    "d.obsState"
   ],
   "metadata": {
    "collapsed": false,
    "pycharm": {
     "name": "#%%\n"
    }
   }
  },
  {
   "cell_type": "markdown",
   "source": [
    "In this case the `obsState` will be transitioning from `RESOURCING` to `EMPTY` which means no real-time processing\n",
    "resources are assigned to the subarray.\n",
    "\n",
    "To set the device to inactive active, run the following command"
   ],
   "metadata": {
    "collapsed": false,
    "pycharm": {
     "name": "#%% md\n"
    }
   }
  },
  {
   "cell_type": "code",
   "source": [
    "d.Off()\n",
    "d.state()"
   ],
   "metadata": {
    "collapsed": false,
    "pycharm": {
     "name": "#%%\n"
    }
   },
   "execution_count": null,
   "outputs": []
  },
  {
   "cell_type": "code",
   "execution_count": null,
   "outputs": [],
   "source": [
    "The state should be set to `OFF`.\n",
    "\n",
    "More details about each of the SDP Subarray commands can be found here [here](https://developer.skao.int/projects/ska-sdp-lmc/en/latest/sdp_subarray.html)"
   ],
   "metadata": {
    "collapsed": false,
    "pycharm": {
     "name": "#%%\n"
    }
   }
  },
  {
   "cell_type": "markdown",
   "source": [
    "More details about each of the SDP Subarray commands can be found here [here](https://developer.skao.int/projects/ska-sdp-lmc/en/latest/sdp_subarray.html)"
   ],
   "metadata": {
    "collapsed": false,
    "pycharm": {
     "name": "#%% md\n"
    }
   }
  }
 ],
 "metadata": {
  "kernelspec": {
   "display_name": "Python 3",
   "language": "python",
   "name": "python3"
  },
  "language_info": {
   "codemirror_mode": {
    "name": "ipython",
    "version": 2
   },
   "file_extension": ".py",
   "mimetype": "text/x-python",
   "name": "python",
   "nbconvert_exporter": "python",
   "pygments_lexer": "ipython2",
   "version": "2.7.6"
  }
 },
 "nbformat": 4,
 "nbformat_minor": 0
}