{
 "cells": [
  {
   "cell_type": "markdown",
   "id": "36f2ef8e-d500-4d2a-9037-84abadb15673",
   "metadata": {},
   "source": [
    "# SKA SDP AA0.5LOW Emulated Receive Workflow\n",
    "\n",
    "Instructions for how to test the persistent sdp receive using emulated AA0.5LOW data with tango and sdp interfaces. This notebook can be executed remotely using binderhub via the following link:\n",
    "\n",
    "https://sdhp.stfc.skao.int/binderhub/v2/gl/ska-telescope%2Fsdp%2Fska-sdp-notebooks/HEAD\n",
    "\n",
    "## Deployment Structure\n",
    "\n",
    "Execution Block\n",
    "\n",
    "Processing Block"
   ]
  },
  {
   "cell_type": "code",
   "execution_count": null,
   "id": "fc014662-59be-4d1e-9f8c-b74179caa6b7",
   "metadata": {},
   "outputs": [],
   "source": [
    "# Debug using kubectl commands\n",
    "#!curl -LO \"https://dl.k8s.io/release/$(curl -L -s https://dl.k8s.io/release/stable.txt)/bin/linux/amd64/kubectl\"\n",
    "#!sudo install -o root -g root -m 0755 kubectl /usr/local/bin/kubectl\n",
    "#kubectl --help"
   ]
  },
  {
   "cell_type": "code",
   "execution_count": 1,
   "id": "4f88ff52-8d4b-4a72-b062-742cfc5ab6d0",
   "metadata": {},
   "outputs": [
    {
     "ename": "ModuleNotFoundError",
     "evalue": "No module named 'tango'",
     "output_type": "error",
     "traceback": [
      "\u001b[0;31m---------------------------------------------------------------------------\u001b[0m",
      "\u001b[0;31mModuleNotFoundError\u001b[0m                       Traceback (most recent call last)",
      "\u001b[0;32m/tmp/ipykernel_23/1845312224.py\u001b[0m in \u001b[0;36m<module>\u001b[0;34m\u001b[0m\n\u001b[0;32m----> 1\u001b[0;31m \u001b[0;32mfrom\u001b[0m \u001b[0mtango\u001b[0m \u001b[0;32mimport\u001b[0m \u001b[0mDeviceProxy\u001b[0m\u001b[0;34m,\u001b[0m \u001b[0mEventType\u001b[0m\u001b[0;34m\u001b[0m\u001b[0;34m\u001b[0m\u001b[0m\n\u001b[0m\u001b[1;32m      2\u001b[0m \u001b[0;32mimport\u001b[0m \u001b[0mska_sdp_config\u001b[0m\u001b[0;34m\u001b[0m\u001b[0;34m\u001b[0m\u001b[0m\n\u001b[1;32m      3\u001b[0m \u001b[0;32mimport\u001b[0m \u001b[0mos\u001b[0m\u001b[0;34m\u001b[0m\u001b[0;34m\u001b[0m\u001b[0m\n\u001b[1;32m      4\u001b[0m \u001b[0;32mimport\u001b[0m \u001b[0mjson\u001b[0m\u001b[0;34m\u001b[0m\u001b[0;34m\u001b[0m\u001b[0m\n\u001b[1;32m      5\u001b[0m \u001b[0;32mimport\u001b[0m \u001b[0mrandom\u001b[0m\u001b[0;34m\u001b[0m\u001b[0;34m\u001b[0m\u001b[0m\n",
      "\u001b[0;31mModuleNotFoundError\u001b[0m: No module named 'tango'"
     ]
    }
   ],
   "source": [
    "from tango import DeviceProxy, EventType\n",
    "import ska_sdp_config\n",
    "import os\n",
    "import json\n",
    "import random\n",
    "from datetime import date\n",
    "\n",
    "# Make sure you connect to the correct Configuration Database\n",
    "KUBE_NAMESPACE = \"dp-shared\"  # add the namespace you want to connect to here\n",
    "os.environ[\"SDP_CONFIG_HOST\"] = f\"ska-sdp-etcd-client.{KUBE_NAMESPACE}\"\n",
    "\n",
    "# set the name of the databaseds service\n",
    "DATABASEDS_NAME = \"databaseds-tango-base\"\n",
    "\n",
    "# finally set the TANGO_HOST\n",
    "os.environ[\"TANGO_HOST\"] = f\"{DATABASEDS_NAME}.{KUBE_NAMESPACE}.svc.cluster.local:10000\"\n",
    "d = DeviceProxy('test-sdp/subarray/02')\n",
    "#print(d.set_logging_level(ska.base.control_model.LoggingLevel.DEBUG))\n",
    "config = ska_sdp_config.Config()"
   ]
  },
  {
   "cell_type": "code",
   "execution_count": 8,
   "id": "bffc2fac-ee8c-4e91-b37e-56ea8c9c6cf9",
   "metadata": {},
   "outputs": [],
   "source": [
    "# Utilities\n",
    "\n",
    "import pytest\n",
    "import time\n",
    "\n",
    "TIMEOUT = 60.0  # seconds\n",
    "INTERVAL = 0.5  # seconds\n",
    "\n",
    "def wait_for_predicate(\n",
    "    predicate, description, timeout=TIMEOUT, interval=INTERVAL\n",
    "):\n",
    "    \"\"\"\n",
    "    Wait for predicate to be true.\n",
    "\n",
    "    :param predicate: callable to test\n",
    "    :param description: description to use if test fails\n",
    "    :param timeout: timeout in seconds\n",
    "    :param interval: interval between tests of the predicate in seconds\n",
    "\n",
    "    \"\"\"\n",
    "    start = time.time()\n",
    "    while True:\n",
    "        if predicate():\n",
    "            break\n",
    "        if time.time() >= start + timeout:\n",
    "            pytest.fail(f\"{description} not achieved after {timeout} seconds\")\n",
    "        time.sleep(interval)\n",
    "\n",
    "\n",
    "def wait_for_state(device, state, timeout=TIMEOUT):\n",
    "    \"\"\"\n",
    "    Wait for device state to have the expected value.\n",
    "\n",
    "    :param device: device client\n",
    "    :param state: the expected state\n",
    "    :param timeout: timeout in seconds\n",
    "\n",
    "    \"\"\"\n",
    "\n",
    "    def predicate():\n",
    "        return device.state() == state\n",
    "\n",
    "    description = f\"Device state {state.name}\"\n",
    "    print(f\"Waiting for device state {state.name}...\")\n",
    "    wait_for_predicate(predicate, description, timeout=timeout)\n",
    "\n",
    "\n",
    "def wait_for_obs_state(device, obs_state, timeout=TIMEOUT):\n",
    "    \"\"\"\n",
    "    Wait for obsState to have the expected value.\n",
    "\n",
    "    :param device: device proxy\n",
    "    :param obs_state: the expected value\n",
    "    :param timeout: timeout in seconds\n",
    "    \"\"\"\n",
    "\n",
    "    def predicate():\n",
    "        return device.obsState == obs_state\n",
    "\n",
    "    description = f\"obsState {obs_state.name}\"\n",
    "    print(f\"Waiting for device obs_state {obs_state.name}...\")\n",
    "    wait_for_predicate(predicate, description, timeout=timeout)\n",
    "\n",
    "def tango_safe_off():\n",
    "    \"\"\"\n",
    "    Turns tango device off safely\n",
    "    \"\"\"\n",
    "    if d.obsState == d.obsState.SCANNING:\n",
    "        print(\">> End Scan\")\n",
    "        d.EndScan()\n",
    "        wait_for_obs_state(d, d.obsState.READY)\n",
    "\n",
    "    if d.obsState == d.obsState.READY:\n",
    "        print(\">> End\")\n",
    "        d.End()\n",
    "        wait_for_obs_state(d, d.obsState.IDLE)\n",
    "\n",
    "    if d.obsState == d.obsState.IDLE:\n",
    "        print(\">> Releasing Resources\")\n",
    "        d.ReleaseResources()        \n",
    "        wait_for_obs_state(d, d.obsState.EMPTY)\n",
    "\n",
    "    if d.state() == DevState.ON:\n",
    "        print(\">> Device OFF\")\n",
    "        d.Off()\n",
    "        wait_for_state(d, DevState.OFF)\n",
    "\n",
    "    assert d.state() == DevState.OFF\n",
    "    print(\"Tango Device is OFF\")"
   ]
  },
  {
   "cell_type": "markdown",
   "id": "1122c734-bf89-4d69-8bdd-f12e471a1c24",
   "metadata": {},
   "source": [
    "# Configure Execution Block"
   ]
  },
  {
   "cell_type": "code",
   "execution_count": 94,
   "id": "fd57375a-39f1-4867-9c7a-319bf71edb59",
   "metadata": {},
   "outputs": [
    {
     "name": "stdout",
     "output_type": "stream",
     "text": [
      "Keys with prefix /script: \n",
      "/script/batch:test-batch:0.3.0\n",
      "/script/batch:test-daliuge:0.3.0\n",
      "/script/batch:test-dask:0.3.0\n",
      "/script/realtime:pss-receive:0.3.0\n",
      "/script/realtime:test-realtime:0.3.0\n",
      "/script/realtime:test-receive-addresses:0.4.0\n",
      "/script/realtime:vis-receive:0.5.0\n",
      "/script/realtime:vis-receive:0.5.1\n"
     ]
    }
   ],
   "source": [
    "!ska-sdp list script"
   ]
  },
  {
   "cell_type": "code",
   "execution_count": null,
   "id": "62b7cca9-5abb-45e6-95ff-73ed1ee889bd",
   "metadata": {},
   "outputs": [],
   "source": [
    "def create_resources_config():\n",
    "    generator = \"notebook\"\n",
    "    today = date.today().strftime(\"%Y%m%d\")\n",
    "    number = random.randint(0, 99998)\n",
    "\n",
    "    EXECUTION_BLOCK_ID = f\"eb-{generator}-{today}-{number:05d}\"\n",
    "    PROCESSING_BLOCK_ID_REALTIME_SENDER = f\"pb-{generator}-{today}-{number:05d}\"\n",
    "    PROCESSING_BLOCK_ID_REALTIME_RECEIVER = f\"pb-{generator}-{today}-{number+1:05d}\"\n",
    "    PROCESSING_BLOCK_ID_BATCH = f\"pb-{generator}-{today}-{number+2:05d}\"\n",
    "\n",
    "    return {\n",
    "      \"interface\": \"https://schema.skao.int/ska-sdp-assignres/0.3\",\n",
    "      \"eb_id\":f\"{EXECUTION_BLOCK_ID}\",\n",
    "      \"max_length\": 21600.0,\n",
    "      \"scan_types\": [\n",
    "        {\n",
    "          \"scan_type_id\": \"science\",\n",
    "          \"coordinate_system\": \"ICRS\", \"ra\": \"02:42:40.771\", \"dec\": \"-00:00:47.84\",\n",
    "          \"channels\": [\n",
    "            { \"count\": 10, \"start\": 0, \"stride\": 2, \"freq_min\": 0.35e9, \"freq_max\": 0.368e9, \"link_map\": [[0,0], [200,1], [744,2], [944,3]] },\n",
    "          ]\n",
    "        },\n",
    "        {\n",
    "          \"scan_type_id\": \"calibration\",\n",
    "          \"coordinate_system\": \"ICRS\", \"ra\": \"12:29:06.699\", \"dec\": \"02:03:08.598\",\n",
    "          \"channels\": [\n",
    "            { \"count\": 5, \"start\": 0, \"stride\": 2, \"freq_min\": 0.35e9, \"freq_max\": 0.368e9, \"link_map\": [[0,0], [200,1], [744,2], [944,3]] },\n",
    "          ]\n",
    "        }\n",
    "      ],\n",
    "      \"processing_blocks\": [\n",
    "        {\n",
    "          \"pb_id\": f\"{PROCESSING_BLOCK_ID_REALTIME_RECEIVER}\",\n",
    "          #\"workflow\": {\"kind\": \"realtime\", \"name\": \"test-receive-addresses\", \"version\": \"0.4.0\"},\n",
    "          \"workflow\": {\"kind\": \"realtime\", \"name\": \"vis-receive\", \"version\": \"0.5.1\"},\n",
    "        },\n",
    "        {\n",
    "          \"pb_id\": f\"{PROCESSING_BLOCK_ID_REALTIME_SENDER}\",\n",
    "          \"workflow\": {\"kind\": \"realtime\": \"name\": \"cbf-emulator\", \"version\": \"0.1.0\"},\n",
    "          \"dependencies\": [\n",
    "            {\"pb_id\": f\"{PROCESSING_BLOCK_ID_REALTIME_RECEIVER}\", \"kind\": [\"calibration\"]}\n",
    "          ]\n",
    "        },\n",
    "        {\n",
    "          \"pb_id\": f\"{PROCESSING_BLOCK_ID_BATCH}\",\n",
    "          \"workflow\": {\"kind\": \"batch\", \"name\": \"test-dask\", \"version\": \"0.3.0\"},\n",
    "          \"parameters\": {},\n",
    "          \"dependencies\": [\n",
    "            {\"pb_id\": f\"{PROCESSING_BLOCK_ID_REALTIME_RECEIVER}\", \"kind\": [\"calibration\"]}\n",
    "          ]\n",
    "        }\n",
    "      ]\n",
    "    }"
   ]
  },
  {
   "cell_type": "markdown",
   "id": "2421353c-b912-488f-958f-f22c886e06b9",
   "metadata": {},
   "source": [
    "# Configure Receiver Processing Block"
   ]
  },
  {
   "cell_type": "code",
   "execution_count": null,
   "id": "2a8ef93b-3cf2-4326-83f3-bb019bb38ced",
   "metadata": {},
   "outputs": [],
   "source": [
    "def create_receive_config():\n",
    "    model_ms            = \"AA05LOW.ms\"\n",
    "    output_ms           = \"AA05LOW.ms\"\n",
    "    total_channels      = 13824\n",
    "    total_timesteps     = 6\n",
    "    total_streams       = 4\n",
    "    num_repeats         = 3\n",
    "    rate                = 10416667  # bits per second\n",
    "    channels_per_stream = total_channels // total_streams\n",
    "    max_payloads        = total_timesteps * total_streams * num_repeats\n",
    "    max_payload_misses  = 30  # payload timeout in seconds\n",
    "    max_ms              = 1  # -1 to continuously run\n",
    "\n",
    "    return {\n",
    "      \"image\": \"artefact.skao.int/ska-sdp-realtime-receive-modules\",\n",
    "      \"version\": \"3.2.1\",\n",
    "      \"model\": {\n",
    "        \"name\": model_ms\n",
    "      },\n",
    "      \"transmission\": {\n",
    "        \"channels_per_stream\": channels_per_stream,\n",
    "        \"rate\": str(rate)\n",
    "      },\n",
    "      \"payload.method\": \"icd\",\n",
    "      \"reader\": {\n",
    "        \"num_timestamps\": 0,\n",
    "        \"start_chan\": 0,\n",
    "        \"num_chan\": 0,\n",
    "        \"num_repeats\": num_repeats,\n",
    "      },\n",
    "      \"reception\": {\n",
    "        \"outputfilename\": \"/mnt/output.ms\",\n",
    "        \"receiver_port_start\": \"41000\",\n",
    "        \"num_ports\": str(total_streams),\n",
    "        \"ring_heaps\": 133,\n",
    "        \"consumer\": \"plasma_writer\",\n",
    "        \"use_plasm_ms\": False,\n",
    "        \"plasma_path\": \"/plasma/socket\",\n",
    "      },\n",
    "      \"pvc\": {\n",
    "          \"name\": \"local-pvc\",\n",
    "          \"path\": \"/mnt/data\",\n",
    "      },\n",
    "      \"extraVolumeMounts\": [\n",
    "        {\n",
    "            \"name\": \"plasma-storage-volume\",\n",
    "            \"mountPath\": \"/plasma\",\n",
    "        }\n",
    "      ],\n",
    "      \"extraVolumes\": [\n",
    "        {\n",
    "          \"name\": \"plasma-storage-volume\",\n",
    "          \"emptyDir\": {\n",
    "            \"medium\": \"Memory\"\n",
    "          }\n",
    "        }\n",
    "      ],\n",
    "      \"extraContainers\": [\n",
    "        {\n",
    "          \"name\": \"plasma-store\",\n",
    "         \"image\": \"artefact.skao.int/ska-sdp-realtime-receive-modules\",\n",
    "         \"command\": [\"plasma_store\", \"-s\", \"/plasma/socket\", \"-m\", \"1000000000\"],\n",
    "          \"volumeMounts\": [\n",
    "            {\n",
    "             \"name\": \"plasma-storage-volume\",\n",
    "              \"mountPath\": \"/plasma\"\n",
    "            },\n",
    "          ]\n",
    "        },\n",
    "        {\n",
    "          \"name\": \"plasma-processor\",\n",
    "          \"image\": \"artefact.skao.int/ska-sdp-realtime-receive-modules\",\n",
    "          \"version\": \"3.2.1\",\n",
    "          \"command\": [\"sh\", \"-c\", \" \".join([\n",
    "                \"plasma-mswriter\",\n",
    "                \"-s\", \"/plasma/socket\",\n",
    "                \"--max_payloads\", str(max_payloads),\n",
    "                \"--max_ms\", str(max_ms),\n",
    "                \"--max_payload_misses\", str(max_payload_misses),\n",
    "                \"--use_plasma_ms\", \"False\",\n",
    "                \"--ms_command\", f\"'mv %s /mnt/data/{output_ms}'\",\n",
    "                \"/mnt/output.ms\",\n",
    "          ])],\n",
    "          \"volumeMounts\": [\n",
    "            {\n",
    "              \"name\": \"plasma-storage-volume\",\n",
    "              \"mountPath\": \"/plasma\"\n",
    "            },\n",
    "            { # for writing to output directory\n",
    "              \"mountPath\": \"/mnt/data\",\n",
    "              \"name\": \"local-pvc\"\n",
    "            }\n",
    "          ]\n",
    "        }\n",
    "      ],\n",
    "    }"
   ]
  },
  {
   "cell_type": "markdown",
   "id": "38bc24ea-8253-45ee-bc8f-f16e67e26235",
   "metadata": {},
   "source": [
    "# Configure Emulator Processing Block"
   ]
  },
  {
   "cell_type": "code",
   "execution_count": 71,
   "id": "10e44ce7-43ae-41d8-96c4-8b4cceac86fa",
   "metadata": {},
   "outputs": [],
   "source": [
    "def create_sender_config(receive_address: str, receive_port: str):\n",
    "    input_ms            = \"AA05LOW.ms\"\n",
    "    total_channels      = 13824\n",
    "    total_timesteps     = 6\n",
    "    total_streams       = 4\n",
    "    num_repeats         = 3\n",
    "    rate                = 10416667  # bits per second\n",
    "    channels_per_stream = total_channels // total_streams\n",
    "    return \\\n",
    "    {\n",
    "      \"apiVersion\": \"batch/v1\",\n",
    "      \"kind\": \"Job\",\n",
    "      \"metadata\": {\n",
    "        \"labels\": {\n",
    "          \"app.kubernetes.io/name\": \"sendtest\"\n",
    "        },\n",
    "        \"name\": \"sendtest\",\n",
    "        \"namespace\": \"sdp\"\n",
    "      },\n",
    "      \"spec\": { \"template\": { \"spec\": {\n",
    "        \"volumes\": [\n",
    "          {\n",
    "            \"name\": \"local-pvc\",\n",
    "            \"persistentVolumeClaim\": {\n",
    "              \"claimName\": \"local-pvc\"\n",
    "            }\n",
    "          }\n",
    "        ],\n",
    "        \"containers\": [\n",
    "          {\n",
    "            \"command\": [\"/bin/bash\", \"-c\", \" \".join([\n",
    "              'emu-send',\n",
    "              f'-o transmission.method=spead2_transmitters',\n",
    "              f'-o transmission.channels_per_stream={channels_per_stream}',\n",
    "              f'-o transmission.rate={rate}',\n",
    "              f'-o transmission.target_host={receive_address}',\n",
    "              f'-o transmission.target_start_port={receive_port}',\n",
    "              f'-o reader.num_repeats={num_repeats}',\n",
    "              f'/app/{input_ms}'\n",
    "            ])],\n",
    "            \"image\": \"artefact.skao.int/ska-sdp-cbf-emulator\",\n",
    "            \"version\": \"3.1.0\",\n",
    "            \"imagePullPolicy\": \"IfNotPresent\",\n",
    "            \"name\": \"sendtest\",\n",
    "            \"resources\": {},\n",
    "            \"terminationMessagePath\": \"/dev/termination-log\",\n",
    "            \"terminationMessagePolicy\": \"File\",\n",
    "            \"volumeMounts\": [\n",
    "              {\n",
    "                \"mountPath\": \"/mnt/data\",\n",
    "                \"name\": \"local-pvc\"\n",
    "              }\n",
    "            ]\n",
    "          }\n",
    "        ],\n",
    "        \"restartPolicy\": \"Never\"\n",
    "      }}}\n",
    "    }"
   ]
  },
  {
   "cell_type": "markdown",
   "id": "fa34c405-2f20-48d2-b567-f6a885dcc32b",
   "metadata": {},
   "source": [
    "# Create Receive Processing Blocks"
   ]
  },
  {
   "cell_type": "code",
   "execution_count": 76,
   "id": "29af2b5d-f6c7-40f8-95ad-e16bbc01c4ad",
   "metadata": {},
   "outputs": [
    {
     "name": "stdout",
     "output_type": "stream",
     "text": [
      "Tango Device is OFF\n",
      ">> Device ON\n",
      "Waiting for device state ON...\n",
      "Waiting for device obs_state EMPTY...\n",
      ">> Assigning Resources\n",
      "Waiting for device obs_state IDLE...\n",
      ">> Get Receive Address\n",
      "{'calibration': {'host': [[0, 'proc-pb-notebook-20220912-85487-receive-0.receive.dp-shared-p.svc.cluster.local']], 'port': [[0, 41000, 1]]}, 'interface': 'https://schema.skao.int/ska-sdp-recvaddrs/0.3', 'science': {'host': [[0, 'proc-pb-notebook-20220912-85487-receive-0.receive.dp-shared-p.svc.cluster.local']], 'port': [[0, 41000, 1]]}}\n",
      ">> Configure\n",
      "Waiting for device obs_state READY...\n",
      ">> Scan\n",
      "Waiting for device obs_state SCANNING...\n",
      "Now Receiving Scans\n"
     ]
    }
   ],
   "source": [
    "from tango import DevState\n",
    "import sys\n",
    "\n",
    "tango_safe_off()\n",
    "try:\n",
    "    print(\">> Device ON\")\n",
    "    d.On()\n",
    "    wait_for_state(d, DevState.ON)\n",
    "    wait_for_obs_state(d, d.obsState.EMPTY)\n",
    "\n",
    "    print(\">> Assigning Resources\")\n",
    "    config_eb = create_resources_config()\n",
    "    d.AssignResources(json.dumps(config_eb))\n",
    "    wait_for_obs_state(d, d.obsState.IDLE)\n",
    "\n",
    "    print(\">> Get Receive Address\")\n",
    "    receiveAddresses = json.loads(d.receiveAddresses)\n",
    "    print(receiveAddresses)\n",
    "\n",
    "    host = receiveAddresses[\"science\"][\"host\"][0][1]\n",
    "    port = receiveAddresses[\"science\"][\"port\"][0][1]    \n",
    "    receive_pb_config = create_receive_config()\n",
    "    sender_pb_config = create_sender_config(host, port)\n",
    "    \n",
    "    print(\">> Configure\")\n",
    "    d.Configure('{\"interface\": \"https://schema.skao.int/ska-sdp-configure/0.3\", \"scan_type\": \"science\"}')\n",
    "    wait_for_obs_state(d, d.obsState.READY)\n",
    "\n",
    "    print(\">> Scan\")\n",
    "    d.Scan('{\"interface\": \"https://schema.skao.int/ska-sdp-scan/0.3\", \"scan_id\": 0}')\n",
    "    wait_for_obs_state(d, d.obsState.SCANNING)\n",
    "\n",
    "    print(\"Now Receiving Scans\")\n",
    "    \n",
    "except Exception as e:\n",
    "    # In case of failure, safely restore the device back to its original off state\n",
    "    tango_safe_off()\n",
    "    raise e"
   ]
  },
  {
   "cell_type": "code",
   "execution_count": null,
   "id": "20ca197e-c871-4eaa-aca9-633092b5183b",
   "metadata": {},
   "outputs": [],
   "source": [
    "!pip install ska-sdp-cbf-emulator\n",
    "!wget -nc https://gitlab.com/ska-telescope/sdp/ska-sdp-realtime-receive-core/-/raw/main/data/AA05LOW.ms.tar.gz\n",
    "!tar xzvf AA05LOW.ms.tar.gz"
   ]
  },
  {
   "cell_type": "markdown",
   "id": "6f772382-fe50-45cf-8a75-f7ba701082c0",
   "metadata": {},
   "source": [
    "# Start Sender"
   ]
  },
  {
   "cell_type": "code",
   "execution_count": 81,
   "id": "a92d244d-c0d5-43dd-acea-45eac7b25d3f",
   "metadata": {},
   "outputs": [
    {
     "name": "stdout",
     "output_type": "stream",
     "text": [
      "Reading package lists... Done\n",
      "Building dependency tree       \n",
      "Reading state information... Done\n",
      "The following additional packages will be installed:\n",
      "  libcap2 libcap2-bin libpam-cap\n",
      "The following NEW packages will be installed:\n",
      "  iputils-ping libcap2 libcap2-bin libpam-cap\n",
      "0 upgraded, 4 newly installed, 0 to remove and 0 not upgraded.\n",
      "Need to get 104 kB of archives.\n",
      "After this operation, 319 kB of additional disk space will be used.\n",
      "Get:1 http://deb.debian.org/debian buster/main amd64 libcap2 amd64 1:2.25-2 [17.6 kB]\n",
      "Get:2 http://deb.debian.org/debian buster/main amd64 iputils-ping amd64 3:20180629-2+deb10u2 [43.4 kB]\n",
      "Get:3 http://deb.debian.org/debian buster/main amd64 libcap2-bin amd64 1:2.25-2 [28.8 kB]\n",
      "Get:4 http://deb.debian.org/debian buster/main amd64 libpam-cap amd64 1:2.25-2 [14.3 kB]\n",
      "Fetched 104 kB in 0s (4471 kB/s)   \n",
      "debconf: delaying package configuration, since apt-utils is not installed\n",
      "\n",
      "\u001b7\u001b[0;23r\u001b8\u001b[1ASelecting previously unselected package libcap2:amd64.\n",
      "(Reading database ... 8065 files and directories currently installed.)\n",
      "Preparing to unpack .../libcap2_1%3a2.25-2_amd64.deb ...\n",
      "\u001b7\u001b[24;0f\u001b[42m\u001b[30mProgress: [  0%]\u001b[49m\u001b[39m [..........................................................] \u001b8\u001b7\u001b[24;0f\u001b[42m\u001b[30mProgress: [  6%]\u001b[49m\u001b[39m [###.......................................................] \u001b8Unpacking libcap2:amd64 (1:2.25-2) ...\n",
      "\u001b7\u001b[24;0f\u001b[42m\u001b[30mProgress: [ 12%]\u001b[49m\u001b[39m [######....................................................] \u001b8Selecting previously unselected package iputils-ping.\n",
      "Preparing to unpack .../iputils-ping_3%3a20180629-2+deb10u2_amd64.deb ...\n",
      "\u001b7\u001b[24;0f\u001b[42m\u001b[30mProgress: [ 18%]\u001b[49m\u001b[39m [##########................................................] \u001b8Unpacking iputils-ping (3:20180629-2+deb10u2) ...\n",
      "\u001b7\u001b[24;0f\u001b[42m\u001b[30mProgress: [ 24%]\u001b[49m\u001b[39m [#############.............................................] \u001b8Selecting previously unselected package libcap2-bin.\n",
      "Preparing to unpack .../libcap2-bin_1%3a2.25-2_amd64.deb ...\n",
      "\u001b7\u001b[24;0f\u001b[42m\u001b[30mProgress: [ 29%]\u001b[49m\u001b[39m [#################.........................................] \u001b8Unpacking libcap2-bin (1:2.25-2) ...\n",
      "\u001b7\u001b[24;0f\u001b[42m\u001b[30mProgress: [ 35%]\u001b[49m\u001b[39m [####################......................................] \u001b8Selecting previously unselected package libpam-cap:amd64.\n",
      "Preparing to unpack .../libpam-cap_1%3a2.25-2_amd64.deb ...\n",
      "\u001b7\u001b[24;0f\u001b[42m\u001b[30mProgress: [ 41%]\u001b[49m\u001b[39m [#######################...................................] \u001b8Unpacking libpam-cap:amd64 (1:2.25-2) ...\n",
      "\u001b7\u001b[24;0f\u001b[42m\u001b[30mProgress: [ 47%]\u001b[49m\u001b[39m [###########################...............................] \u001b8Setting up libcap2:amd64 (1:2.25-2) ...\n",
      "\u001b7\u001b[24;0f\u001b[42m\u001b[30mProgress: [ 53%]\u001b[49m\u001b[39m [##############################............................] \u001b8\u001b7\u001b[24;0f\u001b[42m\u001b[30mProgress: [ 59%]\u001b[49m\u001b[39m [##################################........................] \u001b8Setting up libcap2-bin (1:2.25-2) ...\n",
      "\u001b7\u001b[24;0f\u001b[42m\u001b[30mProgress: [ 65%]\u001b[49m\u001b[39m [#####################################.....................] \u001b8\u001b7\u001b[24;0f\u001b[42m\u001b[30mProgress: [ 71%]\u001b[49m\u001b[39m [########################################..................] \u001b8Setting up libpam-cap:amd64 (1:2.25-2) ...\n",
      "\u001b7\u001b[24;0f\u001b[42m\u001b[30mProgress: [ 76%]\u001b[49m\u001b[39m [############################################..............] \u001b8debconf: unable to initialize frontend: Dialog\n",
      "debconf: (No usable dialog-like program is installed, so the dialog based frontend cannot be used. at /usr/share/perl5/Debconf/FrontEnd/Dialog.pm line 78.)\n",
      "debconf: falling back to frontend: Readline\n",
      "debconf: unable to initialize frontend: Readline\n",
      "debconf: (Can't locate Term/ReadLine.pm in @INC (you may need to install the Term::ReadLine module) (@INC contains: /etc/perl /usr/local/lib/x86_64-linux-gnu/perl/5.28.1 /usr/local/share/perl/5.28.1 /usr/lib/x86_64-linux-gnu/perl5/5.28 /usr/share/perl5 /usr/lib/x86_64-linux-gnu/perl/5.28 /usr/share/perl/5.28 /usr/local/lib/site_perl /usr/lib/x86_64-linux-gnu/perl-base) at /usr/share/perl5/Debconf/FrontEnd/Readline.pm line 7.)\n",
      "debconf: falling back to frontend: Teletype\n",
      "\u001b7\u001b[24;0f\u001b[42m\u001b[30mProgress: [ 82%]\u001b[49m\u001b[39m [###############################################...........] \u001b8Setting up iputils-ping (3:20180629-2+deb10u2) ...\n",
      "\u001b7\u001b[24;0f\u001b[42m\u001b[30mProgress: [ 88%]\u001b[49m\u001b[39m [###################################################.......] \u001b8\u001b7\u001b[24;0f\u001b[42m\u001b[30mProgress: [ 94%]\u001b[49m\u001b[39m [######################################################....] \u001b8Processing triggers for libc-bin (2.28-10+deb10u1) ...\n",
      "\n",
      "\u001b7\u001b[0;24r\u001b8\u001b[1A\u001b[J"
     ]
    }
   ],
   "source": [
    "!sudo apt install -y iputils-ping"
   ]
  },
  {
   "cell_type": "code",
   "execution_count": 83,
   "id": "9441ff79-33fe-425c-881b-7cc9f5500b5c",
   "metadata": {},
   "outputs": [
    {
     "name": "stdout",
     "output_type": "stream",
     "text": [
      "sending to proc-pb-notebook-20220912-85487-receive-0.receive.dp-shared-p.svc.cluster.local:41000\n"
     ]
    },
    {
     "name": "stderr",
     "output_type": "stream",
     "text": [
      "ping: proc-pb-notebook-20220912-85487-receive-0.receive.dp-shared-p.svc.cluster.local:41000: Name or service not known\n"
     ]
    },
    {
     "data": {
      "text/plain": [
       "<subprocess.Popen at 0x7fc3ddf26eb8>"
      ]
     },
     "execution_count": 83,
     "metadata": {},
     "output_type": "execute_result"
    },
    {
     "name": "stdout",
     "output_type": "stream",
     "text": [
      "1|2022-09-12T09:50:25.157Z|INFO|MainThread|packetise|packetiser.py#58||AUTOs present\n",
      "1|2022-09-12T09:50:25.157Z|INFO|MainThread|packetise|packetiser.py#71||scan ids            : [0]\n",
      "1|2022-09-12T09:50:25.157Z|INFO|MainThread|packetise|packetiser.py#72||no. stations        : 6\n",
      "1|2022-09-12T09:50:25.157Z|INFO|MainThread|packetise|packetiser.py#73||no. baselines       : 21\n",
      "1|2022-09-12T09:50:25.157Z|INFO|MainThread|packetise|packetiser.py#74||no. channels        : 13824\n",
      "1|2022-09-12T09:50:25.157Z|INFO|MainThread|packetise|packetiser.py#75||first channel       : 0\n",
      "1|2022-09-12T09:50:25.157Z|INFO|MainThread|packetise|packetiser.py#76||channels per stream : 3456 (0 == all)\n",
      "1|2022-09-12T09:50:25.157Z|INFO|MainThread|packetise|packetiser.py#77||time interval       : 0 (0 == as per MS, <0 == fly through)\n",
      "1|2022-09-12T09:50:25.157Z|INFO|MainThread|packetise|packetiser.py#78||no. repeats         : 3\n",
      "1|2022-09-12T09:50:25.164Z|INFO|MainThread|__init__|spead2_transmitters.py#149||Creating StreamConfig with max_packet_size=1472\n"
     ]
    },
    {
     "name": "stderr",
     "output_type": "stream",
     "text": [
      "Traceback (most recent call last):\n",
      "  File \"/home/tango/.local/bin/emu-send\", line 8, in <module>\n",
      "    sys.exit(main())\n",
      "  File \"/home/tango/.local/lib/python3.7/site-packages/cbf_sdp/packetiser.py\", line 201, in main\n",
      "    packetise(config, args.measurement_set))\n",
      "  File \"/usr/lib/python3.7/asyncio/base_events.py\", line 584, in run_until_complete\n",
      "    return future.result()\n",
      "  File \"/home/tango/.local/lib/python3.7/site-packages/cbf_sdp/packetiser.py\", line 115, in packetise\n",
      "    transmitter = transmitters.create(config['transmission'], num_baselines, num_chan)\n",
      "  File \"/home/tango/.local/lib/python3.7/site-packages/cbf_sdp/transmitters/__init__.py\", line 15, in create\n",
      "    return getattr(m, 'transmitter')(config, num_baselines, num_chan) # getattr returns m.transmitter(args)\n",
      "  File \"/home/tango/.local/lib/python3.7/site-packages/cbf_sdp/transmitters/spead2_transmitters.py\", line 165, in __init__\n",
      "    self._create_streams(num_baselines, num_chan)\n",
      "  File \"/home/tango/.local/lib/python3.7/site-packages/cbf_sdp/transmitters/spead2_transmitters.py\", line 207, in _create_streams\n",
      "    buffer_size\n",
      "  File \"/home/tango/.local/lib/python3.7/site-packages/cbf_sdp/transmitters/spead2_transmitters.py\", line 38, in create_stream\n",
      "    return spead2.send.asyncio.UdpStream(**kwargs)\n",
      "  File \"/home/tango/.local/lib/python3.7/site-packages/spead2/send/asyncio.py\", line 41, in __init__\n",
      "    super().__init__(*args, **kwargs)\n",
      "RuntimeError: resolve: Host not found (authoritative) [asio.netdb:1]\n"
     ]
    }
   ],
   "source": [
    "import sys\n",
    "import subprocess as sp\n",
    "\n",
    "sp.Popen(f\"ping {host}:{port}\".split())\n",
    "\n",
    "print(f\"sending to {host}:{port}\")\n",
    "sender_pb_config = create_sender_config(host, port)\n",
    "send_command = sender_pb_config[\"spec\"][\"template\"][\"spec\"][\"containers\"][0][\"command\"]\n",
    "sp.Popen(send_command)"
   ]
  },
  {
   "cell_type": "code",
   "execution_count": 22,
   "id": "c728b869-6d44-4726-84fa-2a3da2c66824",
   "metadata": {},
   "outputs": [
    {
     "name": "stdout",
     "output_type": "stream",
     "text": [
      "{'current_scan_type': 'science', 'eb_id': 'eb-notebook-20220912-19606', 'pb_batch': ['pb-notebook-20220912-19607'], 'pb_realtime': ['pb-notebook-20220912-19606'], 'pb_receive_addresses': 'pb-notebook-20220912-19606', 'scan_id': 1, 'scan_types': [{'channels': [{'count': 10, 'freq_max': 368000000.0, 'freq_min': 350000000.0, 'link_map': [[0, 0], [200, 1], [744, 2], [944, 3]], 'start': 0, 'stride': 2}], 'coordinate_system': 'ICRS', 'dec': '-00:00:47.84', 'ra': '02:42:40.771', 'scan_type_id': 'science'}, {'channels': [{'count': 5, 'freq_max': 368000000.0, 'freq_min': 350000000.0, 'link_map': [[0, 0], [200, 1], [744, 2], [944, 3]], 'start': 0, 'stride': 2}], 'coordinate_system': 'ICRS', 'dec': '02:03:08.598', 'ra': '12:29:06.699', 'scan_type_id': 'calibration'}], 'status': 'ACTIVE', 'subarray_id': '02'}\n",
      "eb-notebook-20220912-19606 pb-notebook-20220912-19606\n"
     ]
    }
   ],
   "source": [
    "for txn in config.txn():\n",
    "    eb = txn.get_execution_block(config_eb['eb_id'])\n",
    "    print(eb)\n",
    "    receive_pb = txn.get_processing_block(eb[\"pb_realtime\"][0])\n",
    "    print(receive_pb.eb_id, receive_pb.pb_id)"
   ]
  },
  {
   "cell_type": "code",
   "execution_count": 24,
   "id": "8515a924-7da0-4365-adc0-87476500a3b7",
   "metadata": {},
   "outputs": [
    {
     "name": "stdout",
     "output_type": "stream",
     "text": [
      "The connection to the server localhost:8080 was refused - did you specify the right host or port?\n"
     ]
    }
   ],
   "source": [
    "!kubectl -n dp-shared get pods"
   ]
  },
  {
   "cell_type": "code",
   "execution_count": null,
   "id": "3c7fb36a-53d8-4630-9a03-4121916b102a",
   "metadata": {},
   "outputs": [],
   "source": [
    "!ska-sdp --help"
   ]
  },
  {
   "cell_type": "code",
   "execution_count": 7,
   "id": "7d210d05-96b1-4770-8855-d254e357062f",
   "metadata": {},
   "outputs": [],
   "source": [
    "#!ska-sdp get /eb/eb-notebook-20220912-09050"
   ]
  },
  {
   "cell_type": "code",
   "execution_count": 41,
   "id": "251ba27e-dbb6-4b1d-ac74-c2f5930dda79",
   "metadata": {},
   "outputs": [
    {
     "name": "stdout",
     "output_type": "stream",
     "text": [
      "healthState.OK\n",
      "5\n"
     ]
    }
   ],
   "source": [
    "# need to get processing block id of current scan\n",
    "print(d.healthState)\n",
    "print(d.get_logging_level())"
   ]
  },
  {
   "cell_type": "code",
   "execution_count": null,
   "id": "7af0e624-5e02-44cf-8035-14ee95c2b8f0",
   "metadata": {},
   "outputs": [],
   "source": [
    "# need to get processing_block logs\n",
    "\n",
    "#print(PROCESSING_BLOCK_ID_BATCH)\n",
    "#for txn in config.txn():\n",
    "#     for pb in txn.list_processing_blocks():\n",
    "#            print(pb)"
   ]
  },
  {
   "cell_type": "markdown",
   "id": "2e6ade3d-d11c-43dd-9769-ef2a8b9e5e1e",
   "metadata": {},
   "source": [
    "# Turn Tango Device Off"
   ]
  },
  {
   "cell_type": "code",
   "execution_count": 73,
   "id": "83b6016b-2a02-47ce-b58c-76669c015575",
   "metadata": {},
   "outputs": [
    {
     "name": "stdout",
     "output_type": "stream",
     "text": [
      ">> End Scan\n",
      "Waiting for device obs_state READY...\n",
      ">> End\n",
      "Waiting for device obs_state IDLE...\n",
      ">> Releasing Resources\n",
      "Waiting for device obs_state EMPTY...\n",
      ">> Device OFF\n",
      "Waiting for device state OFF...\n",
      "Tango Device is OFF\n"
     ]
    }
   ],
   "source": [
    "# Turn Off Tango Device\n",
    "tango_safe_off()"
   ]
  },
  {
   "cell_type": "markdown",
   "id": "47891962-22e9-4e99-b981-b353c0732534",
   "metadata": {},
   "source": [
    "# Create Emulated Sender"
   ]
  },
  {
   "cell_type": "code",
   "execution_count": null,
   "id": "2d4b67ab-1ad6-4c8e-addd-c1aa52e7dd98",
   "metadata": {},
   "outputs": [],
   "source": [
    "# Deploy Sender\n",
    "for txn in config.txn():\n",
    "    "
   ]
  }
 ],
 "metadata": {
  "kernelspec": {
   "display_name": "Python 3 (ipykernel)",
   "language": "python",
   "name": "python3"
  },
  "language_info": {
   "codemirror_mode": {
    "name": "ipython",
    "version": 3
   },
   "file_extension": ".py",
   "mimetype": "text/x-python",
   "name": "python",
   "nbconvert_exporter": "python",
   "pygments_lexer": "ipython3",
   "version": "3.9.6"
  }
 },
 "nbformat": 4,
 "nbformat_minor": 5
}
