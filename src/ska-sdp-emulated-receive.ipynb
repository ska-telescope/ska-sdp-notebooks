{
 "cells": [
  {
   "cell_type": "markdown",
   "id": "36f2ef8e-d500-4d2a-9037-84abadb15673",
   "metadata": {},
   "source": [
    "# SKA SDP AA0.5LOW Emulated Receive Workflow\n",
    "\n",
    "Instructions for how to test the persistent sdp receive using emulated AA0.5LOW data with tango and sdp interfaces. This notebook can be executed remotely using binderhub via the following link:\n",
    "\n",
    "https://sdhp.stfc.skao.int/binderhub/v2/gl/ska-telescope%2Fsdp%2Fska-sdp-notebooks/HEAD\n",
    "\n",
    "## Tango Proxy Interface Intro\n",
    "\n",
    "The Tango device proxy interface provides interaction to a subarray and it's associated execution block in the form of a state machine. When the device is On, this interface provides a single observable state object:\n",
    "\n",
    "#### ObsState\n",
    "\n",
    "* EMPTY\n",
    "* IDLE\n",
    "* READY\n",
    "* SCANNING\n",
    "\n",
    "Communication to the Tango device is performed via the use of commands and accessors whereby all data is conformant to the sdp schemas available here:\n",
    "\n",
    "https://developer.skao.int/projects/ska-telmodel/en/latest/schemas/ska-sdp.html\n",
    "\n",
    "\n",
    "| Command    | Current State | Next State | Input  | Output |\n",
    "| ---------- | ------------- | ---------- | ------ | ------ |\n",
    "| AssignRes  |     EMPTY     |   IDLE     | https://developer.skao.int/projects/ska-telmodel/en/latest/schemas/ska-sdp-assignres.html | None\n",
    "| Configure  |     IDLE      |   READY    | https://developer.skao.int/projects/ska-telmodel/en/latest/schemas/ska-sdp-configure.html | None\n",
    "| Scan       |     READY     |  SCANNING  | https://developer.skao.int/projects/ska-telmodel/en/latest/schemas/ska-sdp-scan.html | None\n",
    "| RecvAddrs  |    SCANNING   |  SCANNING  | None | https://developer.skao.int/projects/ska-telmodel/en/latest/schemas/ska-sdp-recvaddrs.html\n",
    "| EndScan    |    SCANNING   |   READY    | None | None\n",
    "| End        |     READY     |   IDLE     | None | None\n",
    "| ReleaseRes |     IDLE      |   EMPTY    | None | None\n",
    "\n",
    "Note: The next state transition is not instantaneous and should be waited for before executing another command.\n",
    "\n",
    "### Execution Block\n",
    "\n",
    "A tango device monitors exactly 1 execution block that is defined by the configure command.\n",
    "\n",
    "### Processing Block\n",
    "\n",
    "Individual processes running in an execution block when not in the EMPTY state."
   ]
  },
  {
   "cell_type": "markdown",
   "id": "2390296d-3b63-4717-9e82-fd859c57da48",
   "metadata": {},
   "source": [
    "# Install Kubernetes (Dev)"
   ]
  },
  {
   "cell_type": "code",
   "execution_count": null,
   "id": "fc014662-59be-4d1e-9f8c-b74179caa6b7",
   "metadata": {},
   "outputs": [],
   "source": [
    "# Debug using python kubernetes\n",
    "!pip install kubernetes\n",
    "\n",
    "# Alternatively debug using kubectl commands\n",
    "!curl -LO \"https://dl.k8s.io/release/$(curl -L -s https://dl.k8s.io/release/stable.txt)/bin/linux/amd64/kubectl\"\n",
    "!sudo install -o root -g root -m 0755 kubectl /usr/local/bin/kubectl\n",
    "!kubectl --help\n",
    "\n",
    "# In addition to this step, you must provide a kubeconfig file which is by default located at:\n",
    "# $HOME/.kube/config\n",
    "# or KUBECONFIG environment variable \n",
    "# or can be passed to load_kube_config()"
   ]
  },
  {
   "cell_type": "markdown",
   "id": "b5eb855f-d7a0-4b99-bb33-f2fec754caf3",
   "metadata": {},
   "source": [
    "# Install Helm (Dev)"
   ]
  },
  {
   "cell_type": "code",
   "execution_count": null,
   "id": "51f342db-87a2-455f-bcb5-0423fb8ee104",
   "metadata": {},
   "outputs": [],
   "source": [
    "!sudo apt install -y gpg\n",
    "!curl https://baltocdn.com/helm/signing.asc | gpg --dearmor | sudo tee /usr/share/keyrings/helm.gpg > /dev/null\n",
    "!sudo apt-get install apt-transport-https --yes\n",
    "!echo \"deb [arch=$(dpkg --print-architecture) signed-by=/usr/share/keyrings/helm.gpg] https://baltocdn.com/helm/stable/debian/ all main\" | sudo tee /etc/apt/sources.list.d/helm-stable-debian.list\n",
    "!sudo apt-get update\n",
    "!sudo apt-get install helm\n",
    "!helm --help"
   ]
  },
  {
   "cell_type": "markdown",
   "id": "98b4b83a-1f9f-4b1a-b4b2-34c626b0a3dd",
   "metadata": {},
   "source": [
    "# Connect to SDP"
   ]
  },
  {
   "cell_type": "code",
   "execution_count": 304,
   "id": "4f88ff52-8d4b-4a72-b062-742cfc5ab6d0",
   "metadata": {},
   "outputs": [
    {
     "name": "stdout",
     "output_type": "stream",
     "text": [
      "WARNING: Kubernetes configuration file is group-readable. This is insecure. Location: /home/tango/.kube/config\n",
      "WARNING: Kubernetes configuration file is world-readable. This is insecure. Location: /home/tango/.kube/config\n",
      "\"ska\" already exists with the same configuration, skipping\n",
      "WARNING: Kubernetes configuration file is group-readable. This is insecure. Location: /app/config\n",
      "WARNING: Kubernetes configuration file is world-readable. This is insecure. Location: /app/config\n",
      "release \"persistent-sdp\" uninstalled\n",
      "WARNING: Kubernetes configuration file is group-readable. This is insecure. Location: /app/config\n",
      "WARNING: Kubernetes configuration file is world-readable. This is insecure. Location: /app/config\n",
      "Release \"persistent-sdp\" does not exist. Installing it now.\n",
      "NAME: persistent-sdp\n",
      "LAST DEPLOYED: Fri Sep 16 07:55:04 2022\n",
      "NAMESPACE: dp-yanda-callan\n",
      "STATUS: deployed\n",
      "REVISION: 1\n",
      "TEST SUITE: None\n",
      "NOTES:\n",
      "SKA SDP deployed!\n",
      "\n",
      "You can connect to the configuration database by running a shell in the\n",
      "console pod. To start a bash shell, use:\n",
      "\n",
      "    $ kubectl -n dp-yanda-callan exec -it ska-sdp-console-0 -- bash\n",
      "\n",
      "and from there you can use the ska-sdp command, e.g.:\n",
      "\n",
      "    # ska-sdp list -a\n"
     ]
    }
   ],
   "source": [
    "from tango import DeviceProxy, EventType\n",
    "import ska_sdp_config\n",
    "import os\n",
    "import json\n",
    "import random\n",
    "from datetime import date\n",
    "\n",
    "# kubernetes client requires a kubeconfig and is only available for development \n",
    "debug = True\n",
    "if debug:\n",
    "    import kubernetes\n",
    "    KUBECONFIG = \"/app/config\" # or \"$HOME/.kube/config\"\n",
    "    k8s_client = kubernetes.client.api_client.ApiClient(configuration=kubernetes.config.load_kube_config(kubeconfig))\n",
    "    v1 = kubernetes.client.CoreV1Api()\n",
    "\n",
    "shared = False\n",
    "if shared:\n",
    "    # Make sure you connect to the correct Configuration Database\n",
    "    KUBE_NAMESPACE = \"dp-shared\"\n",
    "    KUBE_PROC_NAMESPACE = f\"{KUBE_NAMESPACE}-p\"\n",
    "else:\n",
    "    KUBE_NAMESPACE = \"dp-yanda-callan\"  # add the namespace you want to connect to here\n",
    "    KUBE_PROC_NAMESPACE = f\"{KUBE_NAMESPACE}-p\"\n",
    "    # install the sdp\n",
    "    !helm repo add ska https://artefact.skao.int/repository/helm-internal\n",
    "    !KUBECONFIG={KUBECONFIG} helm uninstall test-sdp --namespace {KUBE_NAMESPACE} --wait\n",
    "    !KUBECONFIG={KUBECONFIG} helm upgrade --install test-sdp ska/ska-sdp --namespace {KUBE_NAMESPACE} --set helmdeploy.namespace={KUBE_PROC_NAMESPACE} --wait\n",
    "    # Alternative sdp install from local repo\n",
    "    #!git clone https://gitlab.com/ska-telescope/sdp/ska-sdp-integration.git --init --recursive\n",
    "    #!KUBECONFIG={KUBECONFIG} make uninstall-sdp -C ./ska-sdp-integration KUBE_NAMESPACE={KUBE_NAMESPACE} KUBE_NAMESPACE_SDP={KUBE_PROC_NAMESPACE} --wait\n",
    "    #!KUBECONFIG=\"/app/config\" make install-sdp -C ./ska-sdp-integration KUBE_NAMESPACE={KUBE_NAMESPACE} KUBE_NAMESPACE_SDP=dp-yanda-callan-p\n",
    "    \n",
    "os.environ[\"SDP_CONFIG_HOST\"] = f\"ska-sdp-etcd-client.{KUBE_NAMESPACE}\"\n",
    "\n",
    "# set the name of the databaseds service\n",
    "DATABASEDS_NAME = \"databaseds-tango-base\"\n",
    "\n",
    "# finally set the TANGO_HOST\n",
    "os.environ[\"TANGO_HOST\"] = f\"{DATABASEDS_NAME}.{KUBE_NAMESPACE}.svc.cluster.local:10000\"\n",
    "d = DeviceProxy('test-sdp/subarray/02')\n",
    "d.set_logging_level(5)\n",
    "config = ska_sdp_config.Config()\n"
   ]
  },
  {
   "cell_type": "code",
   "execution_count": 305,
   "id": "6a4ed15b-3173-4c36-b3c5-8e16c831b585",
   "metadata": {},
   "outputs": [
    {
     "name": "stdout",
     "output_type": "stream",
     "text": [
      "dp-yanda-callan-p\n",
      "ska-sdp-etcd-client.dp-yanda-callan\n",
      "databaseds-tango-base.dp-yanda-callan.svc.cluster.local:10000\n"
     ]
    }
   ],
   "source": [
    "print(KUBE_PROC_NAMESPACE)\n",
    "print(os.environ[\"SDP_CONFIG_HOST\"])\n",
    "print(os.environ[\"TANGO_HOST\"])\n",
    "d = DeviceProxy('test-sdp/subarray/01')"
   ]
  },
  {
   "cell_type": "code",
   "execution_count": 298,
   "id": "319634f7-e693-435f-9e98-e5f53e89b466",
   "metadata": {},
   "outputs": [
    {
     "name": "stdout",
     "output_type": "stream",
     "text": [
      "WARNING: Kubernetes configuration file is group-readable. This is insecure. Location: /app/config\n",
      "WARNING: Kubernetes configuration file is world-readable. This is insecure. Location: /app/config\n",
      "NAME          \tNAMESPACE      \tREVISION\tUPDATED                                \tSTATUS  \tCHART         \tAPP VERSION\n",
      "persistent-sdp\tdp-yanda-callan\t5       \t2022-09-16 07:49:10.700466971 +0000 UTC\tdeployed\tska-sdp-0.11.2\t0.11.2     \n",
      "NAME                              READY   STATUS      RESTARTS        AGE\n",
      "databaseds-tango-base-0           1/1     Running     1 (3h39m ago)   3h39m\n",
      "ska-sdp-console-0                 1/1     Running     0               3h39m\n",
      "ska-sdp-etcd-0                    1/1     Running     0               3h39m\n",
      "ska-sdp-helmdeploy-0              1/1     Running     0               3h39m\n",
      "ska-sdp-lmc-config--1-9k6tk       0/1     Completed   0               3h39m\n",
      "ska-sdp-lmc-controller-0          1/1     Running     0               3h39m\n",
      "ska-sdp-lmc-subarray-01-0         1/1     Running     0               3h39m\n",
      "ska-sdp-opinterface-0             1/1     Running     0               3h39m\n",
      "ska-sdp-proccontrol-0             1/1     Running     0               3h39m\n",
      "ska-sdp-scripts-config--1-9rfbl   0/1     Completed   0               3h39m\n",
      "ska-tango-base-tangodb-0          1/1     Running     0               3h39m\n",
      "No resources found in dp-yanda-callan-p namespace.\n"
     ]
    }
   ],
   "source": [
    "# Check SDP deployment\n",
    "!KUBECONFIG={KUBECONFIG} helm list -n {KUBE_NAMESPACE}\n",
    "!KUBECONFIG={KUBECONFIG} kubectl get pods -n {KUBE_NAMESPACE}\n",
    "!KUBECONFIG={KUBECONFIG} kubectl get pods -n {KUBE_PROC_NAMESPACE}"
   ]
  },
  {
   "cell_type": "code",
   "execution_count": 306,
   "id": "bffc2fac-ee8c-4e91-b37e-56ea8c9c6cf9",
   "metadata": {},
   "outputs": [
    {
     "name": "stdout",
     "output_type": "stream",
     "text": [
      ">> End Scan\n",
      "Waiting for device obs_state READY...\n",
      ">> End\n",
      "Waiting for device obs_state IDLE...\n",
      ">> Releasing Resources\n",
      "Waiting for device obs_state EMPTY...\n",
      "Tango Device is EMPTY\n",
      ">> Device OFF\n",
      "Waiting for device state OFF...\n",
      "Tango Device is OFF\n"
     ]
    }
   ],
   "source": [
    "# Utilities\n",
    "\n",
    "import pytest\n",
    "import time\n",
    "\n",
    "TIMEOUT = 60.0  # seconds\n",
    "INTERVAL = 0.5  # seconds\n",
    "\n",
    "def wait_for_predicate(\n",
    "    predicate, description, timeout=TIMEOUT, interval=INTERVAL\n",
    "):\n",
    "    \"\"\"\n",
    "    Wait for predicate to be true.\n",
    "\n",
    "    :param predicate: callable to test\n",
    "    :param description: description to use if test fails\n",
    "    :param timeout: timeout in seconds\n",
    "    :param interval: interval between tests of the predicate in seconds\n",
    "\n",
    "    \"\"\"\n",
    "    start = time.time()\n",
    "    while True:\n",
    "        if predicate():\n",
    "            break\n",
    "        if time.time() >= start + timeout:\n",
    "            pytest.fail(f\"{description} not achieved after {timeout} seconds\")\n",
    "        time.sleep(interval)\n",
    "\n",
    "\n",
    "def wait_for_state(device, state, timeout=TIMEOUT):\n",
    "    \"\"\"\n",
    "    Wait for device state to have the expected value.\n",
    "\n",
    "    :param device: device client\n",
    "    :param state: the expected state\n",
    "    :param timeout: timeout in seconds\n",
    "\n",
    "    \"\"\"\n",
    "\n",
    "    def predicate():\n",
    "        return device.state() == state\n",
    "\n",
    "    description = f\"Device state {state.name}\"\n",
    "    print(f\"Waiting for device state {state.name}...\")\n",
    "    wait_for_predicate(predicate, description, timeout=timeout)\n",
    "\n",
    "\n",
    "def wait_for_obs_state(device, obs_state, timeout=TIMEOUT):\n",
    "    \"\"\"\n",
    "    Wait for obsState to have the expected value.\n",
    "\n",
    "    :param device: device proxy\n",
    "    :param obs_state: the expected value\n",
    "    :param timeout: timeout in seconds\n",
    "    \"\"\"\n",
    "\n",
    "    def predicate():\n",
    "        return device.obsState == obs_state\n",
    "\n",
    "    description = f\"obsState {obs_state.name}\"\n",
    "    print(f\"Waiting for device obs_state {obs_state.name}...\")\n",
    "    wait_for_predicate(predicate, description, timeout=timeout)\n",
    "\n",
    "def tango_safe_release():\n",
    "    \"\"\"\n",
    "    Safely releases tango device to EMPTY obsState\n",
    "    \"\"\"\n",
    "    if d.obsState == d.obsState.SCANNING:\n",
    "        print(\">> End Scan\")\n",
    "        d.EndScan()\n",
    "        wait_for_obs_state(d, d.obsState.READY)\n",
    "\n",
    "    if d.obsState == d.obsState.READY:\n",
    "        print(\">> End\")\n",
    "        d.End()\n",
    "        wait_for_obs_state(d, d.obsState.IDLE)\n",
    "\n",
    "    if d.obsState == d.obsState.IDLE:\n",
    "        print(\">> Releasing Resources\")\n",
    "        d.ReleaseResources()        \n",
    "        wait_for_obs_state(d, d.obsState.EMPTY)\n",
    "        \n",
    "    # if state FAULT:\n",
    "    # d.Restart()\n",
    "    \n",
    "    assert d.obsState == d.obsState.EMPTY\n",
    "    print(\"Tango Device is EMPTY\")\n",
    "    \n",
    "def tango_safe_off():\n",
    "    \"\"\"\n",
    "    Safely turns tango device to OFF state\n",
    "    \"\"\"\n",
    "    tango_safe_release()\n",
    "    if d.state() == DevState.ON:\n",
    "        print(\">> Device OFF\")\n",
    "        d.Off()\n",
    "        wait_for_state(d, DevState.OFF)\n",
    "\n",
    "    assert d.state() == DevState.OFF\n",
    "    print(\"Tango Device is OFF\")\n",
    "    \n",
    "#d.Restart()\n",
    "tango_safe_off()"
   ]
  },
  {
   "cell_type": "markdown",
   "id": "2421353c-b912-488f-958f-f22c886e06b9",
   "metadata": {},
   "source": [
    "# Configure Processing Block Parameters\n",
    "\n",
    "Before creating an execution block, parameters may need to be passed to the workflow script in ska-sdp-scripts to ensure correct reception is configured correctly."
   ]
  },
  {
   "cell_type": "code",
   "execution_count": 121,
   "id": "10e44ce7-43ae-41d8-96c4-8b4cceac86fa",
   "metadata": {},
   "outputs": [],
   "source": [
    "def create_receive_parameters():\n",
    "    model_ms            = \"AA05LOW.ms\"\n",
    "    output_ms           = \"AA05LOW.ms\"\n",
    "    total_channels      = 13824\n",
    "    total_timesteps     = 6\n",
    "    total_streams       = 4\n",
    "    num_repeats         = 3\n",
    "    rate                = 10416667  # bits per second\n",
    "    channels_per_stream = total_channels // total_streams\n",
    "    max_payloads        = total_timesteps * total_streams * num_repeats\n",
    "    max_payload_misses  = 30  # payload timeout in seconds\n",
    "    max_ms              = 1  # -1 to continuously run\n",
    "\n",
    "    return {\n",
    "      \"image\": \"artefact.skao.int/ska-sdp-realtime-receive-modules\",\n",
    "      \"version\": \"3.2.1\",\n",
    "      \"model\": {\n",
    "        \"name\": model_ms\n",
    "      },\n",
    "      \"transmission\": {\n",
    "        \"transport_protocol\": \"udp\",\n",
    "        \"channels_per_stream\": channels_per_stream,\n",
    "        \"rate\": str(rate)\n",
    "      },\n",
    "      \"payload.method\": \"icd\",\n",
    "      \"reader\": {\n",
    "        \"num_timestamps\": 0,\n",
    "        \"start_chan\": 0,\n",
    "        \"num_chan\": 0,\n",
    "        \"num_repeats\": num_repeats,\n",
    "      },\n",
    "      \"reception\": {\n",
    "        \"outputfilename\": \"/mnt/output.ms\",\n",
    "        \"receiver_port_start\": \"41000\",\n",
    "        \"num_ports\": str(total_streams),\n",
    "        \"ring_heaps\": 133,\n",
    "        \"consumer\": \"plasma_writer\",\n",
    "        \"use_plasm_ms\": False,\n",
    "        \"plasma_path\": \"/plasma/socket\",\n",
    "      },\n",
    "      \"pvc\": {\n",
    "          \"name\": \"shared\",\n",
    "          \"path\": \"/mnt/data\",\n",
    "      },\n",
    "      \"extraVolumeMounts\": [\n",
    "        {\n",
    "            \"name\": \"plasma-storage-volume\",\n",
    "            \"mountPath\": \"/plasma\",\n",
    "        }\n",
    "      ],\n",
    "      \"extraVolumes\": [\n",
    "        {\n",
    "          \"name\": \"plasma-storage-volume\",\n",
    "          \"emptyDir\": {\n",
    "            \"medium\": \"Memory\"\n",
    "          }\n",
    "        }\n",
    "      ],\n",
    "      \"extraContainers\": [\n",
    "        {\n",
    "          \"name\": \"plasma-store\",\n",
    "         \"image\": \"artefact.skao.int/ska-sdp-realtime-receive-modules\",\n",
    "         \"command\": [\"plasma_store\", \"-s\", \"/plasma/socket\", \"-m\", \"1000000000\"],\n",
    "          \"volumeMounts\": [\n",
    "            {\n",
    "             \"name\": \"plasma-storage-volume\",\n",
    "              \"mountPath\": \"/plasma\"\n",
    "            },\n",
    "          ]\n",
    "        },\n",
    "        {\n",
    "          \"name\": \"plasma-processor\",\n",
    "          \"image\": \"artefact.skao.int/ska-sdp-realtime-receive-modules\",\n",
    "          \"version\": \"3.2.1\",\n",
    "          \"command\": [\"sh\", \"-c\", \" \".join([\n",
    "                \"plasma-mswriter\",\n",
    "                \"-s\", \"/plasma/socket\",\n",
    "                \"--max_payloads\", str(max_payloads),\n",
    "                \"--max_ms\", str(max_ms),\n",
    "                \"--max_payload_misses\", str(max_payload_misses),\n",
    "                \"--use_plasma_ms\", \"False\",\n",
    "                \"--ms_command\", f\"'mv %s /mnt/data/{output_ms}'\",\n",
    "                \"/mnt/output.ms\",\n",
    "          ])],\n",
    "          \"volumeMounts\": [\n",
    "            {\n",
    "              \"name\": \"plasma-storage-volume\",\n",
    "              \"mountPath\": \"/plasma\"\n",
    "            },\n",
    "            { # for writing to output directory\n",
    "              \"name\": \"local-pvc\",\n",
    "              \"mountPath\": \"/mnt/data\"\n",
    "            }\n",
    "          ]\n",
    "        }\n",
    "      ],\n",
    "    }\n",
    "\n",
    "\n",
    "def create_sender_parameters(receive_address: str, receive_port: str):\n",
    "    input_ms            = \"AA05LOW.ms\"\n",
    "    total_channels      = 13824\n",
    "    total_timesteps     = 6\n",
    "    total_streams       = 4\n",
    "    num_repeats         = 3\n",
    "    rate                = 10416667  # bits per second\n",
    "    channels_per_stream = total_channels // total_streams\n",
    "    return \\\n",
    "    {\n",
    "      \"apiVersion\": \"batch/v1\",\n",
    "      \"kind\": \"Job\",\n",
    "      \"metadata\": {\n",
    "        \"labels\": {\n",
    "          \"app.kubernetes.io/name\": \"sendtest\"\n",
    "        },\n",
    "        \"name\": \"sendtest\",\n",
    "        \"namespace\": \"sdp\"\n",
    "      },\n",
    "      \"spec\": { \"template\": { \"spec\": {\n",
    "        \"volumes\": [\n",
    "          {\n",
    "            \"name\": \"local-pvc\",\n",
    "            \"persistentVolumeClaim\": {\n",
    "              \"claimName\": \"local-pvc\"\n",
    "            }\n",
    "          }\n",
    "        ],\n",
    "        \"containers\": [\n",
    "          {\n",
    "            \"command\": [\"/bin/bash\", \"-c\", \" \".join([\n",
    "              'emu-send',\n",
    "              f'-o transmission.method=spead2_transmitters',\n",
    "              f'-o transmission.channels_per_stream={channels_per_stream}',\n",
    "              f'-o transmission.rate={rate}',\n",
    "              f'-o transmission.target_host={receive_address}',\n",
    "              f'-o transmission.target_start_port={receive_port}',\n",
    "              f'-o reader.num_repeats={num_repeats}',\n",
    "              f'/app/{input_ms}'\n",
    "            ])],\n",
    "            \"image\": \"artefact.skao.int/ska-sdp-cbf-emulator\",\n",
    "            \"version\": \"3.1.0\",\n",
    "            \"imagePullPolicy\": \"IfNotPresent\",\n",
    "            \"name\": \"sendtest\",\n",
    "            \"resources\": {},\n",
    "            \"terminationMessagePath\": \"/dev/termination-log\",\n",
    "            \"terminationMessagePolicy\": \"File\",\n",
    "            \"volumeMounts\": [\n",
    "              {\n",
    "                \"mountPath\": \"/mnt/data\",\n",
    "                \"name\": \"local-pvc\"\n",
    "              }\n",
    "            ]\n",
    "          }\n",
    "        ],\n",
    "        \"restartPolicy\": \"Never\"\n",
    "      }}}\n",
    "    }"
   ]
  },
  {
   "cell_type": "markdown",
   "id": "1122c734-bf89-4d69-8bdd-f12e471a1c24",
   "metadata": {},
   "source": [
    "# Configure Execution Block"
   ]
  },
  {
   "cell_type": "code",
   "execution_count": 300,
   "id": "fd57375a-39f1-4867-9c7a-319bf71edb59",
   "metadata": {},
   "outputs": [
    {
     "name": "stdout",
     "output_type": "stream",
     "text": [
      "Keys with prefix /script: \n",
      "/script/batch:test-batch:0.3.0\n",
      "/script/batch:test-daliuge:0.3.0\n",
      "/script/batch:test-dask:0.3.0\n",
      "/script/realtime:pss-receive:0.3.0\n",
      "/script/realtime:test-realtime:0.3.0\n",
      "/script/realtime:test-receive-addresses:0.4.0\n",
      "/script/realtime:vis-receive:0.5.0\n",
      "/script/realtime:vis-receive:0.5.1\n"
     ]
    }
   ],
   "source": [
    "# list of available workflows\n",
    "!ska-sdp list script"
   ]
  },
  {
   "cell_type": "code",
   "execution_count": 307,
   "id": "62b7cca9-5abb-45e6-95ff-73ed1ee889bd",
   "metadata": {},
   "outputs": [],
   "source": [
    "def create_resources_config():\n",
    "    generator = \"notebook\"\n",
    "    today = date.today().strftime(\"%Y%m%d\")\n",
    "    number = random.randint(0, 99998)\n",
    "\n",
    "    EXECUTION_BLOCK_ID = f\"eb-{generator}-{today}-{number:05d}\"\n",
    "    PROCESSING_BLOCK_ID_REALTIME_SENDER = f\"pb-{generator}-{today}-{number:05d}\"\n",
    "    PROCESSING_BLOCK_ID_REALTIME_RECEIVER = f\"pb-{generator}-{today}-{number+1:05d}\"\n",
    "    PROCESSING_BLOCK_ID_BATCH = f\"pb-{generator}-{today}-{number+2:05d}\"\n",
    "\n",
    "    return {\n",
    "      \"interface\": \"https://schema.skao.int/ska-sdp-assignres/0.3\",\n",
    "      \"eb_id\":f\"{EXECUTION_BLOCK_ID}\",\n",
    "      \"max_length\": 21600.0,\n",
    "      \"scan_types\": [\n",
    "        {\n",
    "          \"scan_type_id\": \"science\",\n",
    "          \"coordinate_system\": \"ICRS\", \"ra\": \"02:42:40.771\", \"dec\": \"-00:00:47.84\",\n",
    "          \"channels\": [\n",
    "            { \"count\": 10, \"start\": 0, \"stride\": 2, \"freq_min\": 0.35e9, \"freq_max\": 0.368e9, \"link_map\": [[0,0], [200,1], [744,2], [944,3]] },\n",
    "          ]\n",
    "        },\n",
    "        {\n",
    "          \"scan_type_id\": \"calibration\",\n",
    "          \"coordinate_system\": \"ICRS\", \"ra\": \"12:29:06.699\", \"dec\": \"02:03:08.598\",\n",
    "          \"channels\": [\n",
    "            { \"count\": 5, \"start\": 0, \"stride\": 2, \"freq_min\": 0.35e9, \"freq_max\": 0.368e9, \"link_map\": [[0,0], [200,1], [744,2], [944,3]] },\n",
    "          ]\n",
    "        }\n",
    "      ],\n",
    "      \"processing_blocks\": [\n",
    "        {\n",
    "          \"pb_id\": f\"{PROCESSING_BLOCK_ID_REALTIME_RECEIVER}\",\n",
    "          #\"workflow\": {\"kind\": \"realtime\", \"name\": \"test-receive-addresses\", \"version\": \"0.4.0\"},\n",
    "          \"workflow\": {\"kind\": \"realtime\", \"name\": \"vis-receive\", \"version\": \"0.5.1\"},\n",
    "          #\"parameters\": create_receive_parameters()\n",
    "          \"parameters\": {\n",
    "            \"image\": \"artefact.skao.int/ska-sdp-realtime-receive-modules\",\n",
    "            \"version\": \"3.3.0\",\n",
    "            \"reception\": {\n",
    "              \"num_channels\": 128,\n",
    "              \"execution_block_id\": EXECUTION_BLOCK_ID, # alternatives are schedblock filename or datamodel filename\n",
    "              \"sdp_config_backend\": \"etcd3\",\n",
    "              \"sdp_config_host\": os.environ[\"SDP_CONFIG_HOST\"],\n",
    "              \"sdp_config_port\": 2379,\n",
    "            },\n",
    "            \"pvc\": {\n",
    "              \"name\": \"shared\"\n",
    "            },\n",
    "            \"plasmaEnabled\": True,\n",
    "            \"plasma_parameters\": {\n",
    "              \"extraContainers\": [\n",
    "                  {\n",
    "                    \"name\": \"tmlite-server\",\n",
    "                    \"image\": \"artefact.skao.int/ska-sdp-tmlite-server:0.3.0\"\n",
    "                  }\n",
    "              ]\n",
    "            }\n",
    "          }\n",
    "        },\n",
    "        #{\n",
    "        #  \"pb_id\": f\"{PROCESSING_BLOCK_ID_REALTIME_SENDER}\",\n",
    "        #  \"workflow\": {\"kind\": \"realtime\": \"name\": \"cbf-emulator\", \"version\": \"0.1.0\"},\n",
    "        #  \"dependencies\": [\n",
    "        #    {\"pb_id\": f\"{PROCESSING_BLOCK_ID_REALTIME_RECEIVER}\", \"kind\": [\"calibration\"]}\n",
    "        #  ]\n",
    "        #},\n",
    "        #{\n",
    "        #  \"pb_id\": f\"{PROCESSING_BLOCK_ID_BATCH}\",\n",
    "        #  \"workflow\": {\"kind\": \"batch\", \"name\": \"test-dask\", \"version\": \"0.3.0\"},\n",
    "        #  \"parameters\": {},\n",
    "        #  \"dependencies\": [\n",
    "        #    {\"pb_id\": f\"{PROCESSING_BLOCK_ID_REALTIME_RECEIVER}\", \"kind\": [\"calibration\"]}\n",
    "        #  ]\n",
    "        #}\n",
    "      ]\n",
    "    }"
   ]
  },
  {
   "cell_type": "code",
   "execution_count": 308,
   "id": "29af2b5d-f6c7-40f8-95ad-e16bbc01c4ad",
   "metadata": {},
   "outputs": [
    {
     "name": "stdout",
     "output_type": "stream",
     "text": [
      "Tango Device is EMPTY\n",
      ">> Device ON\n",
      "Waiting for device state ON...\n",
      "Waiting for device obs_state EMPTY...\n",
      ">> Assigning Resources\n",
      "Waiting for device obs_state IDLE...\n",
      ">> Get Receive Address\n",
      "{'calibration': {'host': [[0, 'proc-pb-notebook-20220916-29637-receive-0.receive.dp-shared-p.svc.cluster.local']], 'port': [[0, 41000, 1]]}, 'interface': 'https://schema.skao.int/ska-sdp-recvaddrs/0.3', 'science': {'host': [[0, 'proc-pb-notebook-20220916-29637-receive-0.receive.dp-shared-p.svc.cluster.local']], 'port': [[0, 41000, 1]]}}\n",
      ">> Configure\n",
      "Waiting for device obs_state READY...\n",
      ">> Scan\n",
      "Waiting for device obs_state SCANNING...\n",
      "Now Receiving Scans\n"
     ]
    }
   ],
   "source": [
    "from tango import DevState\n",
    "import sys\n",
    "\n",
    "tango_safe_release()\n",
    "try:\n",
    "    if d.state() == DevState.OFF:\n",
    "        print(\">> Device ON\")\n",
    "        d.On()\n",
    "        wait_for_state(d, DevState.ON)\n",
    "        wait_for_obs_state(d, d.obsState.EMPTY)\n",
    "\n",
    "    print(\">> Assigning Resources\")\n",
    "    config_eb = create_resources_config()\n",
    "    # https://developer.skao.int/projects/ska-telmodel/en/latest/schemas/ska-sdp-assignres.html\n",
    "    d.AssignResources(json.dumps(config_eb))\n",
    "    wait_for_obs_state(d, d.obsState.IDLE)\n",
    "\n",
    "    print(\">> Get Receive Address\")\n",
    "    receiveAddresses = json.loads(d.receiveAddresses)\n",
    "    print(receiveAddresses)\n",
    "\n",
    "    host = receiveAddresses[\"science\"][\"host\"][0][1]\n",
    "    port = receiveAddresses[\"science\"][\"port\"][0][1]\n",
    "    receive_pb_config = create_receive_config()\n",
    "    sender_pb_config = create_sender_config(host, port)\n",
    "    \n",
    "    print(\">> Configure\")\n",
    "    # https://developer.skao.int/projects/ska-telmodel/en/latest/schemas/ska-sdp-configure.html\n",
    "    d.Configure(json.dumps({\"interface\": \"https://schema.skao.int/ska-sdp-configure/0.3\", \"scan_type\": \"science\"}))\n",
    "    wait_for_obs_state(d, d.obsState.READY)\n",
    "\n",
    "    halt = True\n",
    "    if halt:\n",
    "        # TODO: halting here for pod testing\n",
    "        print(\">> Scan\")\n",
    "        d.Scan(json.dumps({\"interface\": \"https://schema.skao.int/ska-sdp-scan/0.3\", \"scan_id\": 0}))\n",
    "        wait_for_obs_state(d, d.obsState.SCANNING)\n",
    "        print(\"Now Receiving Scans\")\n",
    "    else:\n",
    "        for scan in range(0,3):\n",
    "            print(\">> Scan\")\n",
    "            d.Scan(json.dumps({\"interface\": \"https://schema.skao.int/ska-sdp-scan/0.3\", \"scan_id\": scan}))\n",
    "            wait_for_obs_state(d, d.obsState.SCANNING)\n",
    "            sleep(10) # scanning for 10 seconds\n",
    "            print(\">> End Scan\")\n",
    "            d.EndScan()\n",
    "            wait_for_obs_state(d, d.obsState.READY)\n",
    "\n",
    "        print(\">> End\")\n",
    "        d.End()\n",
    "        wait_for_obs_state(d, d.obsState.IDLE)\n",
    "\n",
    "        print(\">> Releasing Resources\")\n",
    "        d.ReleaseResources()        \n",
    "        wait_for_obs_state(d, d.obsState.EMPTY)\n",
    "\n",
    "        print(\">> Device OFF\")\n",
    "        d.Off()\n",
    "        wait_for_state(d, DevState.OFF)\n",
    "\n",
    "except Exception as e:\n",
    "    # In case of failure, safely restore the device back to its original off state\n",
    "    tango_safe_release()\n",
    "    raise e"
   ]
  },
  {
   "cell_type": "code",
   "execution_count": 252,
   "id": "3851050f-6301-4da9-8883-b890dbfb6eb6",
   "metadata": {},
   "outputs": [],
   "source": [
    "import datetime\n",
    "\n",
    "def print_pods(namespace: str):\n",
    "    pods = v1.list_namespaced_pod(namespace=namespace)\n",
    "    print(f\"pod_ip\\t\\tnamespace\\tname\\t\\t\\t\\t\\t\\tphase\")\n",
    "    for i in pods.items:\n",
    "        print(f\"{str(i.status.pod_ip):10}\\t{i.metadata.namespace}\\t{i.metadata.name:20}\\t{i.status.phase}\")\n",
    "\n",
    "def print_pod_events(name: str, namespace: str):\n",
    "    field_selector = f\"involvedObject.name={receive_pod_name}\"\n",
    "    stream = kubernetes.watch.Watch().stream(v1.list_namespaced_event, namespace=namespace, field_selector=field_selector, timeout_seconds=1)\n",
    "    print(f\"Events for {receive_pod_name}:\")\n",
    "    print(\"Type\\tReason\\t\\t\\tAge\\t\\tFrom\\t\\t\\tMessage\")\n",
    "    for event in stream:\n",
    "        print(\n",
    "            f\"{event['object'].type}\\t\"\n",
    "            f\"{event['object'].reason}\\t\"\n",
    "            f\"{event['object'].event_time}\\t\"\n",
    "            #f\"{datetime.datetime.now(datetime.timezone.utc)-event['object'].event_time}\\t\"\n",
    "            f\"{event['object'].reporting_component}\\t\"\n",
    "            f\"{event['object'].message}\"\n",
    "        )"
   ]
  },
  {
   "cell_type": "code",
   "execution_count": 309,
   "id": "2eefb58c-4b4c-4b05-8c77-d7008e455b53",
   "metadata": {},
   "outputs": [
    {
     "name": "stdout",
     "output_type": "stream",
     "text": [
      "No resources found in dp-yanda-callan-p namespace.\n",
      "pod_ip\t\tnamespace\tname\t\t\t\t\t\tphase\n",
      "Events for proc-pb-notebook-20220916-29637-receive-0:\n",
      "Type\tReason\t\t\tAge\t\tFrom\t\t\tMessage\n"
     ]
    },
    {
     "ename": "ApiException",
     "evalue": "(404)\nReason: Not Found\nHTTP response headers: HTTPHeaderDict({'Audit-Id': '1bc54980-5c31-4e83-acf4-17d7d85c64b6', 'Cache-Control': 'no-cache, private', 'Content-Type': 'application/json', 'Date': 'Fri, 16 Sep 2022 07:58:00 GMT', 'Content-Length': '250'})\nHTTP response body: {\"kind\":\"Status\",\"apiVersion\":\"v1\",\"metadata\":{},\"status\":\"Failure\",\"message\":\"pods \\\"proc-pb-notebook-20220916-29637-receive-0\\\" not found\",\"reason\":\"NotFound\",\"details\":{\"name\":\"proc-pb-notebook-20220916-29637-receive-0\",\"kind\":\"pods\"},\"code\":404}\n\n",
     "output_type": "error",
     "traceback": [
      "\u001b[0;31m---------------------------------------------------------------------------\u001b[0m",
      "\u001b[0;31mApiException\u001b[0m                              Traceback (most recent call last)",
      "\u001b[0;32m/tmp/ipykernel_21/1785237974.py\u001b[0m in \u001b[0;36m<module>\u001b[0;34m\u001b[0m\n\u001b[1;32m     10\u001b[0m \u001b[0;31m# check logs\u001b[0m\u001b[0;34m\u001b[0m\u001b[0;34m\u001b[0m\u001b[0;34m\u001b[0m\u001b[0m\n\u001b[1;32m     11\u001b[0m \u001b[0;31m#print(v1.read_namespaced_pod_log(namespace=KUBE_NAMESPACE, name=\"ska-sdp-scripts-config--1-9rfbl\"))\u001b[0m\u001b[0;34m\u001b[0m\u001b[0;34m\u001b[0m\u001b[0;34m\u001b[0m\u001b[0m\n\u001b[0;32m---> 12\u001b[0;31m \u001b[0mprint\u001b[0m\u001b[0;34m(\u001b[0m\u001b[0mv1\u001b[0m\u001b[0;34m.\u001b[0m\u001b[0mread_namespaced_pod_log\u001b[0m\u001b[0;34m(\u001b[0m\u001b[0mnamespace\u001b[0m\u001b[0;34m=\u001b[0m\u001b[0mKUBE_PROC_NAMESPACE\u001b[0m\u001b[0;34m,\u001b[0m \u001b[0mname\u001b[0m\u001b[0;34m=\u001b[0m\u001b[0mreceive_pod_name\u001b[0m\u001b[0;34m)\u001b[0m\u001b[0;34m)\u001b[0m\u001b[0;34m\u001b[0m\u001b[0;34m\u001b[0m\u001b[0m\n\u001b[0m",
      "\u001b[0;32m~/.local/lib/python3.7/site-packages/kubernetes/client/api/core_v1_api.py\u001b[0m in \u001b[0;36mread_namespaced_pod_log\u001b[0;34m(self, name, namespace, **kwargs)\u001b[0m\n\u001b[1;32m  23745\u001b[0m         \"\"\"\n\u001b[1;32m  23746\u001b[0m         \u001b[0mkwargs\u001b[0m\u001b[0;34m[\u001b[0m\u001b[0;34m'_return_http_data_only'\u001b[0m\u001b[0;34m]\u001b[0m \u001b[0;34m=\u001b[0m \u001b[0;32mTrue\u001b[0m\u001b[0;34m\u001b[0m\u001b[0;34m\u001b[0m\u001b[0m\n\u001b[0;32m> 23747\u001b[0;31m         \u001b[0;32mreturn\u001b[0m \u001b[0mself\u001b[0m\u001b[0;34m.\u001b[0m\u001b[0mread_namespaced_pod_log_with_http_info\u001b[0m\u001b[0;34m(\u001b[0m\u001b[0mname\u001b[0m\u001b[0;34m,\u001b[0m \u001b[0mnamespace\u001b[0m\u001b[0;34m,\u001b[0m \u001b[0;34m**\u001b[0m\u001b[0mkwargs\u001b[0m\u001b[0;34m)\u001b[0m  \u001b[0;31m# noqa: E501\u001b[0m\u001b[0;34m\u001b[0m\u001b[0;34m\u001b[0m\u001b[0m\n\u001b[0m\u001b[1;32m  23748\u001b[0m \u001b[0;34m\u001b[0m\u001b[0m\n\u001b[1;32m  23749\u001b[0m     \u001b[0;32mdef\u001b[0m \u001b[0mread_namespaced_pod_log_with_http_info\u001b[0m\u001b[0;34m(\u001b[0m\u001b[0mself\u001b[0m\u001b[0;34m,\u001b[0m \u001b[0mname\u001b[0m\u001b[0;34m,\u001b[0m \u001b[0mnamespace\u001b[0m\u001b[0;34m,\u001b[0m \u001b[0;34m**\u001b[0m\u001b[0mkwargs\u001b[0m\u001b[0;34m)\u001b[0m\u001b[0;34m:\u001b[0m  \u001b[0;31m# noqa: E501\u001b[0m\u001b[0;34m\u001b[0m\u001b[0;34m\u001b[0m\u001b[0m\n",
      "\u001b[0;32m~/.local/lib/python3.7/site-packages/kubernetes/client/api/core_v1_api.py\u001b[0m in \u001b[0;36mread_namespaced_pod_log_with_http_info\u001b[0;34m(self, name, namespace, **kwargs)\u001b[0m\n\u001b[1;32m  23878\u001b[0m             \u001b[0m_preload_content\u001b[0m\u001b[0;34m=\u001b[0m\u001b[0mlocal_var_params\u001b[0m\u001b[0;34m.\u001b[0m\u001b[0mget\u001b[0m\u001b[0;34m(\u001b[0m\u001b[0;34m'_preload_content'\u001b[0m\u001b[0;34m,\u001b[0m \u001b[0;32mTrue\u001b[0m\u001b[0;34m)\u001b[0m\u001b[0;34m,\u001b[0m\u001b[0;34m\u001b[0m\u001b[0;34m\u001b[0m\u001b[0m\n\u001b[1;32m  23879\u001b[0m             \u001b[0m_request_timeout\u001b[0m\u001b[0;34m=\u001b[0m\u001b[0mlocal_var_params\u001b[0m\u001b[0;34m.\u001b[0m\u001b[0mget\u001b[0m\u001b[0;34m(\u001b[0m\u001b[0;34m'_request_timeout'\u001b[0m\u001b[0;34m)\u001b[0m\u001b[0;34m,\u001b[0m\u001b[0;34m\u001b[0m\u001b[0;34m\u001b[0m\u001b[0m\n\u001b[0;32m> 23880\u001b[0;31m             collection_formats=collection_formats)\n\u001b[0m\u001b[1;32m  23881\u001b[0m \u001b[0;34m\u001b[0m\u001b[0m\n\u001b[1;32m  23882\u001b[0m     \u001b[0;32mdef\u001b[0m \u001b[0mread_namespaced_pod_status\u001b[0m\u001b[0;34m(\u001b[0m\u001b[0mself\u001b[0m\u001b[0;34m,\u001b[0m \u001b[0mname\u001b[0m\u001b[0;34m,\u001b[0m \u001b[0mnamespace\u001b[0m\u001b[0;34m,\u001b[0m \u001b[0;34m**\u001b[0m\u001b[0mkwargs\u001b[0m\u001b[0;34m)\u001b[0m\u001b[0;34m:\u001b[0m  \u001b[0;31m# noqa: E501\u001b[0m\u001b[0;34m\u001b[0m\u001b[0;34m\u001b[0m\u001b[0m\n",
      "\u001b[0;32m~/.local/lib/python3.7/site-packages/kubernetes/client/api_client.py\u001b[0m in \u001b[0;36mcall_api\u001b[0;34m(self, resource_path, method, path_params, query_params, header_params, body, post_params, files, response_type, auth_settings, async_req, _return_http_data_only, collection_formats, _preload_content, _request_timeout, _host)\u001b[0m\n\u001b[1;32m    351\u001b[0m                                    \u001b[0mresponse_type\u001b[0m\u001b[0;34m,\u001b[0m \u001b[0mauth_settings\u001b[0m\u001b[0;34m,\u001b[0m\u001b[0;34m\u001b[0m\u001b[0;34m\u001b[0m\u001b[0m\n\u001b[1;32m    352\u001b[0m                                    \u001b[0m_return_http_data_only\u001b[0m\u001b[0;34m,\u001b[0m \u001b[0mcollection_formats\u001b[0m\u001b[0;34m,\u001b[0m\u001b[0;34m\u001b[0m\u001b[0;34m\u001b[0m\u001b[0m\n\u001b[0;32m--> 353\u001b[0;31m                                    _preload_content, _request_timeout, _host)\n\u001b[0m\u001b[1;32m    354\u001b[0m \u001b[0;34m\u001b[0m\u001b[0m\n\u001b[1;32m    355\u001b[0m         return self.pool.apply_async(self.__call_api, (resource_path,\n",
      "\u001b[0;32m~/.local/lib/python3.7/site-packages/kubernetes/client/api_client.py\u001b[0m in \u001b[0;36m__call_api\u001b[0;34m(self, resource_path, method, path_params, query_params, header_params, body, post_params, files, response_type, auth_settings, _return_http_data_only, collection_formats, _preload_content, _request_timeout, _host)\u001b[0m\n\u001b[1;32m    182\u001b[0m             \u001b[0mpost_params\u001b[0m\u001b[0;34m=\u001b[0m\u001b[0mpost_params\u001b[0m\u001b[0;34m,\u001b[0m \u001b[0mbody\u001b[0m\u001b[0;34m=\u001b[0m\u001b[0mbody\u001b[0m\u001b[0;34m,\u001b[0m\u001b[0;34m\u001b[0m\u001b[0;34m\u001b[0m\u001b[0m\n\u001b[1;32m    183\u001b[0m             \u001b[0m_preload_content\u001b[0m\u001b[0;34m=\u001b[0m\u001b[0m_preload_content\u001b[0m\u001b[0;34m,\u001b[0m\u001b[0;34m\u001b[0m\u001b[0;34m\u001b[0m\u001b[0m\n\u001b[0;32m--> 184\u001b[0;31m             _request_timeout=_request_timeout)\n\u001b[0m\u001b[1;32m    185\u001b[0m \u001b[0;34m\u001b[0m\u001b[0m\n\u001b[1;32m    186\u001b[0m         \u001b[0mself\u001b[0m\u001b[0;34m.\u001b[0m\u001b[0mlast_response\u001b[0m \u001b[0;34m=\u001b[0m \u001b[0mresponse_data\u001b[0m\u001b[0;34m\u001b[0m\u001b[0;34m\u001b[0m\u001b[0m\n",
      "\u001b[0;32m~/.local/lib/python3.7/site-packages/kubernetes/client/api_client.py\u001b[0m in \u001b[0;36mrequest\u001b[0;34m(self, method, url, query_params, headers, post_params, body, _preload_content, _request_timeout)\u001b[0m\n\u001b[1;32m    375\u001b[0m                                         \u001b[0m_preload_content\u001b[0m\u001b[0;34m=\u001b[0m\u001b[0m_preload_content\u001b[0m\u001b[0;34m,\u001b[0m\u001b[0;34m\u001b[0m\u001b[0;34m\u001b[0m\u001b[0m\n\u001b[1;32m    376\u001b[0m                                         \u001b[0m_request_timeout\u001b[0m\u001b[0;34m=\u001b[0m\u001b[0m_request_timeout\u001b[0m\u001b[0;34m,\u001b[0m\u001b[0;34m\u001b[0m\u001b[0;34m\u001b[0m\u001b[0m\n\u001b[0;32m--> 377\u001b[0;31m                                         headers=headers)\n\u001b[0m\u001b[1;32m    378\u001b[0m         \u001b[0;32melif\u001b[0m \u001b[0mmethod\u001b[0m \u001b[0;34m==\u001b[0m \u001b[0;34m\"HEAD\"\u001b[0m\u001b[0;34m:\u001b[0m\u001b[0;34m\u001b[0m\u001b[0;34m\u001b[0m\u001b[0m\n\u001b[1;32m    379\u001b[0m             return self.rest_client.HEAD(url,\n",
      "\u001b[0;32m~/.local/lib/python3.7/site-packages/kubernetes/client/rest.py\u001b[0m in \u001b[0;36mGET\u001b[0;34m(self, url, headers, query_params, _preload_content, _request_timeout)\u001b[0m\n\u001b[1;32m    242\u001b[0m                             \u001b[0m_preload_content\u001b[0m\u001b[0;34m=\u001b[0m\u001b[0m_preload_content\u001b[0m\u001b[0;34m,\u001b[0m\u001b[0;34m\u001b[0m\u001b[0;34m\u001b[0m\u001b[0m\n\u001b[1;32m    243\u001b[0m                             \u001b[0m_request_timeout\u001b[0m\u001b[0;34m=\u001b[0m\u001b[0m_request_timeout\u001b[0m\u001b[0;34m,\u001b[0m\u001b[0;34m\u001b[0m\u001b[0;34m\u001b[0m\u001b[0m\n\u001b[0;32m--> 244\u001b[0;31m                             query_params=query_params)\n\u001b[0m\u001b[1;32m    245\u001b[0m \u001b[0;34m\u001b[0m\u001b[0m\n\u001b[1;32m    246\u001b[0m     def HEAD(self, url, headers=None, query_params=None, _preload_content=True,\n",
      "\u001b[0;32m~/.local/lib/python3.7/site-packages/kubernetes/client/rest.py\u001b[0m in \u001b[0;36mrequest\u001b[0;34m(self, method, url, query_params, headers, body, post_params, _preload_content, _request_timeout)\u001b[0m\n\u001b[1;32m    232\u001b[0m \u001b[0;34m\u001b[0m\u001b[0m\n\u001b[1;32m    233\u001b[0m         \u001b[0;32mif\u001b[0m \u001b[0;32mnot\u001b[0m \u001b[0;36m200\u001b[0m \u001b[0;34m<=\u001b[0m \u001b[0mr\u001b[0m\u001b[0;34m.\u001b[0m\u001b[0mstatus\u001b[0m \u001b[0;34m<=\u001b[0m \u001b[0;36m299\u001b[0m\u001b[0;34m:\u001b[0m\u001b[0;34m\u001b[0m\u001b[0;34m\u001b[0m\u001b[0m\n\u001b[0;32m--> 234\u001b[0;31m             \u001b[0;32mraise\u001b[0m \u001b[0mApiException\u001b[0m\u001b[0;34m(\u001b[0m\u001b[0mhttp_resp\u001b[0m\u001b[0;34m=\u001b[0m\u001b[0mr\u001b[0m\u001b[0;34m)\u001b[0m\u001b[0;34m\u001b[0m\u001b[0;34m\u001b[0m\u001b[0m\n\u001b[0m\u001b[1;32m    235\u001b[0m \u001b[0;34m\u001b[0m\u001b[0m\n\u001b[1;32m    236\u001b[0m         \u001b[0;32mreturn\u001b[0m \u001b[0mr\u001b[0m\u001b[0;34m\u001b[0m\u001b[0;34m\u001b[0m\u001b[0m\n",
      "\u001b[0;31mApiException\u001b[0m: (404)\nReason: Not Found\nHTTP response headers: HTTPHeaderDict({'Audit-Id': '1bc54980-5c31-4e83-acf4-17d7d85c64b6', 'Cache-Control': 'no-cache, private', 'Content-Type': 'application/json', 'Date': 'Fri, 16 Sep 2022 07:58:00 GMT', 'Content-Length': '250'})\nHTTP response body: {\"kind\":\"Status\",\"apiVersion\":\"v1\",\"metadata\":{},\"status\":\"Failure\",\"message\":\"pods \\\"proc-pb-notebook-20220916-29637-receive-0\\\" not found\",\"reason\":\"NotFound\",\"details\":{\"name\":\"proc-pb-notebook-20220916-29637-receive-0\",\"kind\":\"pods\"},\"code\":404}\n\n"
     ]
    }
   ],
   "source": [
    "#kubectl get pods -n {KUBE_NAMESPACE}\n",
    "!kubectl get pods -n {KUBE_PROC_NAMESPACE}\n",
    "#kubectl describe pod {receive_pod_name} -n {KUBE_PROC_NAMESPACE}\n",
    "\n",
    "print_pods(KUBE_PROC_NAMESPACE)\n",
    "\n",
    "receive_pod_name = f\"proc-{config_eb['processing_blocks'][0]['pb_id']}-receive-0\"\n",
    "print_pod_events(receive_pod_name, KUBE_PROC_NAMESPACE)\n",
    "\n",
    "# check logs\n",
    "#print(v1.read_namespaced_pod_log(namespace=KUBE_NAMESPACE, name=\"ska-sdp-scripts-config--1-9rfbl\"))\n",
    "print(v1.read_namespaced_pod_log(namespace=KUBE_PROC_NAMESPACE, name=receive_pod_name))"
   ]
  },
  {
   "cell_type": "code",
   "execution_count": 310,
   "id": "4b02592a-d34c-4f4a-bbad-e21c983ec8b5",
   "metadata": {},
   "outputs": [
    {
     "name": "stdout",
     "output_type": "stream",
     "text": [
      ">> End Scan\n",
      "Waiting for device obs_state READY...\n",
      ">> End\n",
      "Waiting for device obs_state IDLE...\n",
      ">> Releasing Resources\n",
      "Waiting for device obs_state EMPTY...\n",
      "Tango Device is EMPTY\n"
     ]
    }
   ],
   "source": [
    "tango_safe_release()"
   ]
  },
  {
   "cell_type": "markdown",
   "id": "6f772382-fe50-45cf-8a75-f7ba701082c0",
   "metadata": {},
   "source": [
    "# Start Sender"
   ]
  },
  {
   "cell_type": "code",
   "execution_count": null,
   "id": "a92d244d-c0d5-43dd-acea-45eac7b25d3f",
   "metadata": {},
   "outputs": [],
   "source": [
    "!sudo apt install wget\n",
    "!pip install ska-sdp-cbf-emulator\n",
    "!wget -nc https://gitlab.com/ska-telescope/sdp/ska-sdp-realtime-receive-core/-/raw/main/data/AA05LOW.ms.tar.gz\n",
    "!tar xzvf AA05LOW.ms.tar.gz\n",
    "!sudo apt install -y iputils-ping"
   ]
  },
  {
   "cell_type": "code",
   "execution_count": 94,
   "id": "9441ff79-33fe-425c-881b-7cc9f5500b5c",
   "metadata": {},
   "outputs": [
    {
     "name": "stdout",
     "output_type": "stream",
     "text": [
      "sending to 10.10.4.51:9000\n"
     ]
    },
    {
     "name": "stderr",
     "output_type": "stream",
     "text": [
      "ping: 10.10.4.51:9000: Name or service not known\n"
     ]
    },
    {
     "data": {
      "text/plain": [
       "<subprocess.Popen at 0x7fe57a400860>"
      ]
     },
     "execution_count": 94,
     "metadata": {},
     "output_type": "execute_result"
    },
    {
     "name": "stderr",
     "output_type": "stream",
     "text": [
      "Traceback (most recent call last):\n",
      "  File \"/home/tango/.local/bin/emu-send\", line 8, in <module>\n",
      "    sys.exit(main())\n",
      "  File \"/home/tango/.local/lib/python3.7/site-packages/cbf_sdp/packetiser.py\", line 201, in main\n",
      "    packetise(config, args.measurement_set))\n",
      "  File \"/usr/lib/python3.7/asyncio/base_events.py\", line 584, in run_until_complete\n",
      "    return future.result()\n",
      "  File \"/home/tango/.local/lib/python3.7/site-packages/cbf_sdp/packetiser.py\", line 51, in packetise\n",
      "    ms = msutils.MeasurementSet.open(mspath)\n",
      "  File \"/home/tango/.local/lib/python3.7/site-packages/realtime/receive/core/msutils.py\", line 514, in open\n",
      "    return MeasurementSet(name, mode=mode)\n",
      "  File \"/home/tango/.local/lib/python3.7/site-packages/realtime/receive/core/msutils.py\", line 551, in __init__\n",
      "    self._open()\n",
      "  File \"/home/tango/.local/lib/python3.7/site-packages/realtime/receive/core/msutils.py\", line 571, in _open\n",
      "    self._t = tables.table(self._name, readonly=self._readonly, ack=False)\n",
      "  File \"/home/tango/.local/lib/python3.7/site-packages/casacore/tables/table.py\", line 373, in __init__\n",
      "    Table.__init__(self, tabname, lockopt, opt)\n",
      "RuntimeError: Table /app/AA05LOW.ms does not exist\n"
     ]
    }
   ],
   "source": [
    "import sys\n",
    "import subprocess as sp\n",
    "\n",
    "sp.Popen(f\"ping {host}:{port}\".split())\n",
    "\n",
    "print(f\"sending to {host}:{port}\")\n",
    "sender_pb_config = create_sender_config(host, port)\n",
    "send_command = sender_pb_config[\"spec\"][\"template\"][\"spec\"][\"containers\"][0][\"command\"]\n",
    "sp.Popen(send_command)"
   ]
  },
  {
   "cell_type": "code",
   "execution_count": 22,
   "id": "c728b869-6d44-4726-84fa-2a3da2c66824",
   "metadata": {},
   "outputs": [
    {
     "name": "stdout",
     "output_type": "stream",
     "text": [
      "{'current_scan_type': 'science', 'eb_id': 'eb-notebook-20220912-19606', 'pb_batch': ['pb-notebook-20220912-19607'], 'pb_realtime': ['pb-notebook-20220912-19606'], 'pb_receive_addresses': 'pb-notebook-20220912-19606', 'scan_id': 1, 'scan_types': [{'channels': [{'count': 10, 'freq_max': 368000000.0, 'freq_min': 350000000.0, 'link_map': [[0, 0], [200, 1], [744, 2], [944, 3]], 'start': 0, 'stride': 2}], 'coordinate_system': 'ICRS', 'dec': '-00:00:47.84', 'ra': '02:42:40.771', 'scan_type_id': 'science'}, {'channels': [{'count': 5, 'freq_max': 368000000.0, 'freq_min': 350000000.0, 'link_map': [[0, 0], [200, 1], [744, 2], [944, 3]], 'start': 0, 'stride': 2}], 'coordinate_system': 'ICRS', 'dec': '02:03:08.598', 'ra': '12:29:06.699', 'scan_type_id': 'calibration'}], 'status': 'ACTIVE', 'subarray_id': '02'}\n",
      "eb-notebook-20220912-19606 pb-notebook-20220912-19606\n"
     ]
    }
   ],
   "source": [
    "for txn in config.txn():\n",
    "    eb = txn.get_execution_block(config_eb['eb_id'])\n",
    "    print(eb)\n",
    "    receive_pb = txn.get_processing_block(eb[\"pb_realtime\"][0])\n",
    "    print(receive_pb.eb_id, receive_pb.pb_id)"
   ]
  },
  {
   "cell_type": "code",
   "execution_count": 24,
   "id": "8515a924-7da0-4365-adc0-87476500a3b7",
   "metadata": {},
   "outputs": [
    {
     "name": "stdout",
     "output_type": "stream",
     "text": [
      "The connection to the server localhost:8080 was refused - did you specify the right host or port?\n"
     ]
    }
   ],
   "source": [
    "!kubectl -n dp-shared get pods"
   ]
  },
  {
   "cell_type": "code",
   "execution_count": null,
   "id": "3c7fb36a-53d8-4630-9a03-4121916b102a",
   "metadata": {},
   "outputs": [],
   "source": [
    "!ska-sdp --help"
   ]
  },
  {
   "cell_type": "code",
   "execution_count": 7,
   "id": "7d210d05-96b1-4770-8855-d254e357062f",
   "metadata": {},
   "outputs": [],
   "source": [
    "#!ska-sdp get /eb/eb-notebook-20220912-09050"
   ]
  },
  {
   "cell_type": "code",
   "execution_count": 125,
   "id": "251ba27e-dbb6-4b1d-ac74-c2f5930dda79",
   "metadata": {},
   "outputs": [
    {
     "name": "stdout",
     "output_type": "stream",
     "text": [
      "healthState.OK\n",
      "5\n"
     ]
    }
   ],
   "source": [
    "# need to get processing block id of current scan\n",
    "print(d.healthState)\n",
    "print(d.get_logging_level())"
   ]
  },
  {
   "cell_type": "code",
   "execution_count": null,
   "id": "7af0e624-5e02-44cf-8035-14ee95c2b8f0",
   "metadata": {},
   "outputs": [],
   "source": [
    "# need to get processing_block logs\n",
    "\n",
    "#print(PROCESSING_BLOCK_ID_BATCH)\n",
    "#for txn in config.txn():\n",
    "#     for pb in txn.list_processing_blocks():\n",
    "#            print(pb)"
   ]
  },
  {
   "cell_type": "code",
   "execution_count": 40,
   "id": "83b6016b-2a02-47ce-b58c-76669c015575",
   "metadata": {},
   "outputs": [
    {
     "name": "stdout",
     "output_type": "stream",
     "text": [
      ">> End Scan\n",
      "Waiting for device obs_state READY...\n",
      ">> End\n",
      "Waiting for device obs_state IDLE...\n",
      ">> Releasing Resources\n",
      "Waiting for device obs_state EMPTY...\n",
      ">> Device OFF\n",
      "Waiting for device state OFF...\n",
      "Tango Device is OFF\n"
     ]
    }
   ],
   "source": [
    "# Turn Off Tango Device\n",
    "tango_safe_off()"
   ]
  },
  {
   "cell_type": "markdown",
   "id": "47891962-22e9-4e99-b981-b353c0732534",
   "metadata": {},
   "source": [
    "# Create Emulated Sender"
   ]
  },
  {
   "cell_type": "code",
   "execution_count": null,
   "id": "2d4b67ab-1ad6-4c8e-addd-c1aa52e7dd98",
   "metadata": {},
   "outputs": [],
   "source": [
    "# Deploy Sender\n",
    "for txn in config.txn():\n",
    "    "
   ]
  }
 ],
 "metadata": {
  "kernelspec": {
   "display_name": "Python 3 (ipykernel)",
   "language": "python",
   "name": "python3"
  },
  "language_info": {
   "codemirror_mode": {
    "name": "ipython",
    "version": 3
   },
   "file_extension": ".py",
   "mimetype": "text/x-python",
   "name": "python",
   "nbconvert_exporter": "python",
   "pygments_lexer": "ipython3",
   "version": "3.7.3"
  }
 },
 "nbformat": 4,
 "nbformat_minor": 5
}
