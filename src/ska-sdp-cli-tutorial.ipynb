{
 "cells": [
  {
   "cell_type": "markdown",
   "id": "b768ec7d-63da-4bdf-bea4-53080f2a180f",
   "metadata": {},
   "source": [
    "# **Control SDP with the `ska-sdp` CLI**"
   ]
  },
  {
   "cell_type": "markdown",
   "id": "63354975-a4c0-410d-9025-e65ba412bdc2",
   "metadata": {},
   "source": [
    "The `ska-sdp` command line interface can be used to directly interact with Science Data Processor's (SDP)\n",
    "Configuration Database (DB). The Config DB (or DB) contains information about the tango devices,\n",
    "available processing scripts, and processes currently running in SDP. It is the heart of the system,\n",
    "all the sub-systems connect to it in order to know what processes need running, which ones have stopped\n",
    "(successfully or with an error), etc.\n",
    "\n",
    "The code of the CLI is stored in the [SDP Configuration Library](https://gitlab.com/ska-telescope/sdp/ska-sdp-config/-/tree/master/src/ska_sdp_config/ska_sdp_cli) GitLab repository.\n",
    "\n",
    "What you will learn from this notebook is:\n",
    " - how to learn to use ska-sdp (i.e. how to use its help function)\n",
    " - how to list and inspect entries in the Config DB\n",
    " - how run a processing script (both batch and realtime)\n",
    " - how to create and delete entries from the Config DB\n",
    " - how to import your unpublished, custom processing script so that you can run it in SDP\n",
    " \n",
    " If you get stuck you can look at the official documentation pages:\n",
    " - [SDP Integration](https://developer.skao.int/projects/ska-sdp-integration/en/latest/index.html)\n",
    " - [ska-sdp CLI](https://developer.skao.int/projects/ska-sdp-config/en/latest/cli.html)\n",
    " - [SDP Processing Scripts](https://developer.skao.int/projects/ska-sdp-script/en/latest/) \n",
    " - [SDP on the Developer Portal](https://developer.skao.int/en/latest/projects/area/sdp.html)\n",
    " \n",
    " If you still don't find the answer to your questions, contact us on Slack: #......"
   ]
  },
  {
   "cell_type": "code",
   "execution_count": null,
   "outputs": [],
   "source": [
    "import os\n",
    "os.environ[\"SDP_CONFIG_HOST\"] = f\"ska-sdp-etcd-client.<update-with-ns!!!>\""
   ],
   "metadata": {
    "collapsed": false,
    "pycharm": {
     "name": "#%%\n"
    }
   }
  },
  {
   "cell_type": "markdown",
   "id": "5d2de55a-e21a-44f9-97da-622586ac75eb",
   "metadata": {
    "pycharm": {
     "name": "#%% md\n"
    }
   },
   "source": [
    "## 1. ska-sdp CLI `help` function"
   ]
  },
  {
   "cell_type": "code",
   "execution_count": 3,
   "id": "2978b59c-c447-48db-a5a8-cdce3534d2d1",
   "metadata": {
    "tags": []
   },
   "outputs": [
    {
     "name": "stdout",
     "output_type": "stream",
     "text": [
      "Command line utility for interacting with SKA Science Data Processor (SDP).\n",
      "\n",
      "Usage:\n",
      "    ska-sdp COMMAND [options] [SDP_OBJECT] [<args>...]\n",
      "    ska-sdp COMMAND (-h|--help)\n",
      "    ska-sdp (-h|--help)\n",
      "\n",
      "SDP Objects:\n",
      "    pb           Interact with processing blocks\n",
      "    script       Interact with available processing script definitions\n",
      "    deployment   Interact with deployments\n",
      "    eb           Interact with execution blocks\n",
      "    controller   Interact with Tango controller device\n",
      "    subarray     Interact with Tango subarray device\n",
      "\n",
      "Commands:\n",
      "    list           List information of object from the Configuration DB\n",
      "    get | watch    Print all the information (i.e. value) of a key in the Config DB\n",
      "    create         Create a new, raw key-value pair in the Config DB;\n",
      "                   Run a processing script; Create a deployment\n",
      "    update         Update a raw key value from CLI\n",
      "    edit           Edit a raw key value from text editor\n",
      "    delete         Delete a single key or all keys within a path from the Config DB\n",
      "    end            Stop/Cancel execution block\n",
      "    import         Import processing script definitions from file or URL\n"
     ]
    }
   ],
   "source": [
    "!ska-sdp --help"
   ]
  },
  {
   "cell_type": "markdown",
   "id": "4e5622a3-8894-46e8-80ec-27821287a3f6",
   "metadata": {},
   "source": [
    "#### Each sub-command has their own help. Look at `ska-sdp create` for example:"
   ]
  },
  {
   "cell_type": "code",
   "execution_count": 4,
   "id": "e62bc30f-7dfc-422b-9824-c23f14fa2630",
   "metadata": {},
   "outputs": [
    {
     "name": "stdout",
     "output_type": "stream",
     "text": [
      "Create SDP objects (deployment, script, eb) in the Configuration Database.\n",
      "Create a processing block to run a script.\n",
      "\n",
      "Usage:\n",
      "    ska-sdp create [options] pb <script> [<parameters>] [--eb=<eb-parameters>]\n",
      "    ska-sdp create [options] deployment <item-id> <kind> <parameters>\n",
      "    ska-sdp create [options] (script|eb) <item-id> <value>\n",
      "    ska-sdp create (-h|--help)\n",
      "\n",
      "Arguments:\n",
      "    <script>            Script that the processing block will run, in the format:\n",
      "                            kind:name:version\n",
      "    <parameters>        Optional parameters for a script, with expected format:\n",
      "                            '{\"key1\": \"value1\", \"key2\": \"value2\"}'\n",
      "                        For deployments, expected format:\n",
      "                            '{\"chart\": <chart-name>, \"values\": <dict-of-values>}'\n",
      "    <eb-parameters>     Optional eb parameters for a real-time script\n",
      "    <item-id>           Id of the new deployment, script or eb\n",
      "    <kind>              Kind of the new deployment (currently \"helm\" only)\n",
      "\n",
      "Options:\n",
      "    -h, --help     Show this screen\n",
      "    -q, --quiet    Cut back on unnecessary output\n",
      "\n",
      "Example:\n",
      "    ska-sdp create eb eb-test-20210524-00000 '{\"test\": true}'\n",
      "    Result in the config db:\n",
      "        key: /eb/eb-test-20210524-00000\n",
      "        value: {\"test\": true}\n",
      "\n",
      "Note: You cannot create processing blocks apart from when they are called to run a script.\n"
     ]
    }
   ],
   "source": [
    "!ska-sdp create --help"
   ]
  },
  {
   "cell_type": "markdown",
   "id": "7ca65d77-dc7c-4308-a912-010d565c3186",
   "metadata": {},
   "source": [
    "## 2. `list`: look at the content of the Configuration Database"
   ]
  },
  {
   "cell_type": "code",
   "execution_count": 6,
   "id": "8b6dd372-51a1-48ef-9d97-a3307d494bdc",
   "metadata": {},
   "outputs": [
    {
     "name": "stdout",
     "output_type": "stream",
     "text": [
      "Keys with prefix /: \n",
      "/lmc/controller\n",
      "/lmc/subarray/01\n",
      "/script/batch:test-batch:0.3.0\n",
      "/script/batch:test-daliuge:0.3.0\n",
      "/script/batch:test-dask:0.3.0\n",
      "/script/realtime:pss-receive:0.3.0\n",
      "/script/realtime:test-realtime:0.3.0\n",
      "/script/realtime:test-receive-addresses:0.4.0\n",
      "/script/realtime:vis-receive:0.5.0\n",
      "/script/realtime:vis-receive:0.5.1\n"
     ]
    }
   ],
   "source": [
    "!ska-sdp list -a"
   ]
  },
  {
   "cell_type": "markdown",
   "id": "5a37aefe-bdae-4046-a249-4f5d0e85986f",
   "metadata": {},
   "source": [
    "In the above output, the default contents of the DB are shown:\n",
    "    - the tango devices: controller (/lmc/controller) and subarray(s) (/lmc/subarray/01)\n",
    "    - processing script definitions (entries starting with /script/)\n",
    "    \n",
    "As you run scripts on SDP, more entries will appear, including processing blocks (pb) and execution blocks (eb)."
   ]
  },
  {
   "cell_type": "markdown",
   "id": "e3abe1e8-8871-46c7-ae47-cc7648022a17",
   "metadata": {},
   "source": [
    "## 3. `get`: look at the content of an entry"
   ]
  },
  {
   "cell_type": "code",
   "execution_count": 7,
   "id": "ddf207f2-6bd6-49cd-8ce8-0e63c409209f",
   "metadata": {},
   "outputs": [
    {
     "name": "stdout",
     "output_type": "stream",
     "text": [
      "/lmc/controller = {\n",
      "  \"state\": \"STANDBY\",\n",
      "  \"transaction_id\": null\n",
      "}\n"
     ]
    }
   ],
   "source": [
    "!ska-sdp get /lmc/controller"
   ]
  },
  {
   "cell_type": "code",
   "execution_count": 8,
   "id": "62cba2ef-8525-4867-97cb-8e6be2f50f92",
   "metadata": {},
   "outputs": [
    {
     "name": "stdout",
     "output_type": "stream",
     "text": [
      "/script/realtime:pss-receive:0.3.0 = {\n",
      "  \"image\": \"artefact.skao.int/ska-sdp-script-pss-receive:0.3.0\"\n",
      "}\n"
     ]
    }
   ],
   "source": [
    "!ska-sdp get /script/realtime:pss-receive:0.3.0"
   ]
  },
  {
   "cell_type": "markdown",
   "id": "eac4c0fd-d73d-44a5-996b-f165e8f31997",
   "metadata": {},
   "source": [
    "Note: if you already have processing blocks (pb) in the DB, you can get the content of all of the ones that belong to the same processing by passing the pb id to the command:\n",
    "\n",
    "    ska-sdp get pb <pb_id>\n",
    "\n",
    "We will come back to this when there will be relevant entries in the DB"
   ]
  },
  {
   "cell_type": "markdown",
   "id": "7175e601-6fc4-4c80-a07f-81ae0d816cd2",
   "metadata": {},
   "source": [
    "## 4. Starting a `batch` processing script"
   ]
  },
  {
   "cell_type": "markdown",
   "id": "d4fc7df4-dbf7-44f4-87fa-6e7c23c009f5",
   "metadata": {},
   "source": [
    "In order to start a processing script, we need to `create` a processing block. Let's take a look at the `ska-sdp create` command's help again:"
   ]
  },
  {
   "cell_type": "code",
   "execution_count": 9,
   "id": "fcd14553-a4ea-47c2-b160-04d36cedb423",
   "metadata": {},
   "outputs": [
    {
     "name": "stdout",
     "output_type": "stream",
     "text": [
      "Create SDP objects (deployment, script, eb) in the Configuration Database.\n",
      "Create a processing block to run a script.\n",
      "\n",
      "Usage:\n",
      "    ska-sdp create [options] pb <script> [<parameters>] [--eb=<eb-parameters>]\n",
      "    ska-sdp create [options] deployment <item-id> <kind> <parameters>\n",
      "    ska-sdp create [options] (script|eb) <item-id> <value>\n",
      "    ska-sdp create (-h|--help)\n",
      "\n",
      "Arguments:\n",
      "    <script>            Script that the processing block will run, in the format:\n",
      "                            kind:name:version\n",
      "    <parameters>        Optional parameters for a script, with expected format:\n",
      "                            '{\"key1\": \"value1\", \"key2\": \"value2\"}'\n",
      "                        For deployments, expected format:\n",
      "                            '{\"chart\": <chart-name>, \"values\": <dict-of-values>}'\n",
      "    <eb-parameters>     Optional eb parameters for a real-time script\n",
      "    <item-id>           Id of the new deployment, script or eb\n",
      "    <kind>              Kind of the new deployment (currently \"helm\" only)\n",
      "\n",
      "Options:\n",
      "    -h, --help     Show this screen\n",
      "    -q, --quiet    Cut back on unnecessary output\n",
      "\n",
      "Example:\n",
      "    ska-sdp create eb eb-test-20210524-00000 '{\"test\": true}'\n",
      "    Result in the config db:\n",
      "        key: /eb/eb-test-20210524-00000\n",
      "        value: {\"test\": true}\n",
      "\n",
      "Note: You cannot create processing blocks apart from when they are called to run a script.\n"
     ]
    }
   ],
   "source": [
    "!ska-sdp create --help"
   ]
  },
  {
   "cell_type": "markdown",
   "id": "d85690f6-c500-4f32-a7ab-2d63f7724606",
   "metadata": {},
   "source": [
    "According to this, we need to specify the script we want in the form of `kind:name:version`. We can provide our script with its expected parameters via the `parameters` argument in dictionary format."
   ]
  },
  {
   "cell_type": "markdown",
   "id": "71d1e440-1eb6-4760-94d7-6c87947707fd",
   "metadata": {},
   "source": [
    "We saw above which processing scripts are available in the Config DB. Only these can be executed by SDP. If you want a different one, you will have to add its details first to the DB (see later).\n",
    "\n",
    "Let's start the [test_dask script](https://developer.skao.int/projects/ska-sdp-script/en/latest/test-scripts/test-dask.html)"
   ]
  },
  {
   "cell_type": "code",
   "execution_count": 15,
   "id": "0a70c2d8-a198-4b93-940b-a52780b6b0fe",
   "metadata": {},
   "outputs": [
    {
     "name": "stdout",
     "output_type": "stream",
     "text": [
      "Processing block created with pb_id: pb-sdpcli-20220729-00001\n"
     ]
    }
   ],
   "source": [
    "!ska-sdp create pb batch:test-dask:0.3.0"
   ]
  },
  {
   "cell_type": "markdown",
   "id": "501dad5b-a9c9-4a71-9111-4781d63ac982",
   "metadata": {},
   "source": [
    "Let's list the contents of the DB again."
   ]
  },
  {
   "cell_type": "code",
   "execution_count": 16,
   "id": "7c36dd57-be1b-43d3-a7ab-a29c59bb35b3",
   "metadata": {},
   "outputs": [
    {
     "name": "stdout",
     "output_type": "stream",
     "text": [
      "Keys with prefix /: \n",
      "/deploy/proc-pb-sdpcli-20220729-00000-script\n",
      "/deploy/proc-pb-sdpcli-20220729-00001-script\n",
      "/lmc/controller\n",
      "/lmc/subarray/01\n",
      "/pb/pb-sdpcli-20220729-00000\n",
      "/pb/pb-sdpcli-20220729-00000/state\n",
      "/pb/pb-sdpcli-20220729-00001\n",
      "/pb/pb-sdpcli-20220729-00001/state\n",
      "/script/batch:test-batch:0.3.0\n",
      "/script/batch:test-daliuge:0.3.0\n",
      "/script/batch:test-dask:0.3.0\n",
      "/script/realtime:pss-receive:0.3.0\n",
      "/script/realtime:test-realtime:0.3.0\n",
      "/script/realtime:test-receive-addresses:0.4.0\n",
      "/script/realtime:vis-receive:0.5.0\n",
      "/script/realtime:vis-receive:0.5.1\n"
     ]
    }
   ],
   "source": [
    "!ska-sdp list -a"
   ]
  },
  {
   "cell_type": "markdown",
   "id": "0394cfc1-60e4-4ff6-8ff9-a8f302362d65",
   "metadata": {},
   "source": [
    "We see six new entries in the database:\n",
    " - three starting with /deploy/\n",
    " - three starting with /pb/\n",
    " \n",
    "The deploy entries contain informations about the deployments that SDP started and the pb entries contain the processing block information. If the processing block is deleted from the DB, the deployment connected to it is also deleted automatically.\n",
    "\n",
    "Let's inspect these entries in more detail."
   ]
  },
  {
   "cell_type": "code",
   "execution_count": 17,
   "id": "e9e55cb7-f801-45d4-b5d4-c25ff72caff4",
   "metadata": {},
   "outputs": [
    {
     "name": "stdout",
     "output_type": "stream",
     "text": [
      "/pb/pb-sdpcli-20220729-00001 = {\n",
      "  \"dependencies\": [],\n",
      "  \"eb_id\": null,\n",
      "  \"parameters\": {},\n",
      "  \"pb_id\": \"pb-sdpcli-20220729-00001\",\n",
      "  \"script\": {\n",
      "    \"kind\": \"batch\",\n",
      "    \"name\": \"test-dask\",\n",
      "    \"version\": \"0.3.0\"\n",
      "  }\n",
      "}\n",
      "/pb/pb-sdpcli-20220729-00001/owner = {\n",
      "  \"command\": [\n",
      "    \"test_dask.py\"\n",
      "  ],\n",
      "  \"hostname\": \"proc-pb-sdpcli-20220729-00001-script--1-2dbvj\",\n",
      "  \"pid\": 1\n",
      "}\n",
      "/pb/pb-sdpcli-20220729-00001/state = {\n",
      "  \"deployments\": {\n",
      "    \"proc-pb-sdpcli-20220729-00001-dask-1\": \"RUNNING\",\n",
      "    \"proc-pb-sdpcli-20220729-00001-dask-2\": \"RUNNING\"\n",
      "  },\n",
      "  \"resources_available\": true,\n",
      "  \"status\": \"RUNNING\"\n",
      "}\n"
     ]
    }
   ],
   "source": [
    "# First let's inspect all of the processing blocks at once, with `get pb`\n",
    "# remember to use the correct pb id from the DB\n",
    "!ska-sdp get pb pb-sdpcli-20220729-00000"
   ]
  },
  {
   "cell_type": "markdown",
   "id": "de830150-45a6-4993-83a3-aae66d127220",
   "metadata": {},
   "source": [
    "Depending on how fast we executed the above command, we may see that the processing has already finished. We can learn about which script was executed, what deployments it started, and what the status of the processing is. Once the deployment finishes, only the deploy object of the processing script remains. If the script deployed other objects, like in our case the Dask execution engine, then those will be deleted upon finishing their processing."
   ]
  },
  {
   "cell_type": "code",
   "execution_count": 18,
   "id": "ce2ab7c7-cabb-4241-9dab-72d3ff9fa850",
   "metadata": {},
   "outputs": [
    {
     "name": "stdout",
     "output_type": "stream",
     "text": [
      "/deploy/proc-pb-sdpcli-20220729-00001-script = {\n",
      "  \"args\": {\n",
      "    \"chart\": \"script\",\n",
      "    \"values\": {\n",
      "      \"env\": [\n",
      "        {\n",
      "          \"name\": \"SDP_CONFIG_HOST\",\n",
      "          \"value\": \"ska-sdp-etcd-client.dp-orca-gabi\"\n",
      "        },\n",
      "        {\n",
      "          \"name\": \"SDP_HELM_NAMESPACE\",\n",
      "          \"value\": \"dp-orca-gabi-p\"\n",
      "        },\n",
      "        {\n",
      "          \"name\": \"SDP_PB_ID\",\n",
      "          \"value\": \"pb-sdpcli-20220729-00001\"\n",
      "        }\n",
      "      ],\n",
      "      \"image\": \"artefact.skao.int/ska-sdp-script-test-dask:0.3.0\"\n",
      "    }\n",
      "  },\n",
      "  \"dpl_id\": \"proc-pb-sdpcli-20220729-00001-script\",\n",
      "  \"kind\": \"helm\"\n",
      "}\n"
     ]
    }
   ],
   "source": [
    "!ska-sdp get /deploy/proc-pb-sdpcli-20220729-00000-script"
   ]
  },
  {
   "cell_type": "markdown",
   "id": "7637c46f-ef94-4693-91cb-85955a6de374",
   "metadata": {},
   "source": [
    "Above, we see the contents of the deployment of the actual processing script. It tells you whit what parameters (values) and which chart was deployed."
   ]
  },
  {
   "cell_type": "markdown",
   "id": "82455080-9069-4438-b9ac-a2085fccb720",
   "metadata": {},
   "source": [
    "Here is an alternative way of getting the details of all objects of the same type using `list`:"
   ]
  },
  {
   "cell_type": "code",
   "execution_count": 19,
   "id": "6fc6e405-8abc-4028-bbb1-4c74c515f863",
   "metadata": {},
   "outputs": [
    {
     "name": "stdout",
     "output_type": "stream",
     "text": [
      "Keys with prefix /deploy: \n",
      "/deploy/proc-pb-sdpcli-20220729-00000-script = {\n",
      "  \"args\": {\n",
      "    \"chart\": \"script\",\n",
      "    \"values\": {\n",
      "      \"env\": [\n",
      "        {\n",
      "          \"name\": \"SDP_CONFIG_HOST\",\n",
      "          \"value\": \"ska-sdp-etcd-client.dp-orca-gabi\"\n",
      "        },\n",
      "        {\n",
      "          \"name\": \"SDP_HELM_NAMESPACE\",\n",
      "          \"value\": \"dp-orca-gabi-p\"\n",
      "        },\n",
      "        {\n",
      "          \"name\": \"SDP_PB_ID\",\n",
      "          \"value\": \"pb-sdpcli-20220729-00000\"\n",
      "        }\n",
      "      ],\n",
      "      \"image\": \"artefact.skao.int/ska-sdp-script-test-dask:0.3.0\"\n",
      "    }\n",
      "  },\n",
      "  \"dpl_id\": \"proc-pb-sdpcli-20220729-00000-script\",\n",
      "  \"kind\": \"helm\"\n",
      "}\n",
      "/deploy/proc-pb-sdpcli-20220729-00001-dask-1 = {\n",
      "  \"args\": {\n",
      "    \"chart\": \"dask\",\n",
      "    \"values\": {\n",
      "      \"image\": \"artefact.skao.int/ska-sdp-script-test-dask:0.3.0\",\n",
      "      \"worker.replicas\": 2\n",
      "    }\n",
      "  },\n",
      "  \"dpl_id\": \"proc-pb-sdpcli-20220729-00001-dask-1\",\n",
      "  \"kind\": \"helm\"\n",
      "}\n",
      "/deploy/proc-pb-sdpcli-20220729-00001-dask-2 = {\n",
      "  \"args\": {\n",
      "    \"chart\": \"dask\",\n",
      "    \"values\": {\n",
      "      \"image\": \"artefact.skao.int/ska-sdp-script-test-dask:0.3.0\",\n",
      "      \"worker.replicas\": 2\n",
      "    }\n",
      "  },\n",
      "  \"dpl_id\": \"proc-pb-sdpcli-20220729-00001-dask-2\",\n",
      "  \"kind\": \"helm\"\n",
      "}\n",
      "/deploy/proc-pb-sdpcli-20220729-00001-script = {\n",
      "  \"args\": {\n",
      "    \"chart\": \"script\",\n",
      "    \"values\": {\n",
      "      \"env\": [\n",
      "        {\n",
      "          \"name\": \"SDP_CONFIG_HOST\",\n",
      "          \"value\": \"ska-sdp-etcd-client.dp-orca-gabi\"\n",
      "        },\n",
      "        {\n",
      "          \"name\": \"SDP_HELM_NAMESPACE\",\n",
      "          \"value\": \"dp-orca-gabi-p\"\n",
      "        },\n",
      "        {\n",
      "          \"name\": \"SDP_PB_ID\",\n",
      "          \"value\": \"pb-sdpcli-20220729-00001\"\n",
      "        }\n",
      "      ],\n",
      "      \"image\": \"artefact.skao.int/ska-sdp-script-test-dask:0.3.0\"\n",
      "    }\n",
      "  },\n",
      "  \"dpl_id\": \"proc-pb-sdpcli-20220729-00001-script\",\n",
      "  \"kind\": \"helm\"\n",
      "}\n"
     ]
    }
   ],
   "source": [
    "!ska-sdp list -v deployment"
   ]
  },
  {
   "cell_type": "markdown",
   "id": "873b6173-9f1e-425b-9b69-7af33c6d0402",
   "metadata": {},
   "source": [
    "Now let's clean up after ourselves with `ska-sdp delete`"
   ]
  },
  {
   "cell_type": "code",
   "execution_count": 22,
   "id": "e04b8a4e-8048-460a-8958-d4c35c9e93a6",
   "metadata": {},
   "outputs": [
    {
     "name": "stdout",
     "output_type": "stream",
     "text": [
      "/pb/pb-sdpcli-20220729-00001\n",
      "/pb/pb-sdpcli-20220729-00001/state\n",
      "Deleted above keys with prefix /pb/pb-sdpcli-20220729-00001.\n"
     ]
    }
   ],
   "source": [
    "!ska-sdp delete pb pb-sdpcli-20220729-00000"
   ]
  },
  {
   "cell_type": "markdown",
   "id": "e6a3570a-3809-4538-8136-df1d842faaa3",
   "metadata": {},
   "source": [
    "Once we delete the processing block, its deployment is also deleted:"
   ]
  },
  {
   "cell_type": "code",
   "execution_count": 24,
   "id": "e296761e-8343-4a7e-9ec1-e7931ad7e3e3",
   "metadata": {},
   "outputs": [
    {
     "name": "stdout",
     "output_type": "stream",
     "text": [
      "Keys with prefix /: \n",
      "/lmc/controller\n",
      "/lmc/subarray/01\n",
      "/script/batch:test-batch:0.3.0\n",
      "/script/batch:test-daliuge:0.3.0\n",
      "/script/batch:test-dask:0.3.0\n",
      "/script/realtime:pss-receive:0.3.0\n",
      "/script/realtime:test-realtime:0.3.0\n",
      "/script/realtime:test-receive-addresses:0.4.0\n",
      "/script/realtime:vis-receive:0.5.0\n",
      "/script/realtime:vis-receive:0.5.1\n"
     ]
    }
   ],
   "source": [
    "!ska-sdp list -a"
   ]
  },
  {
   "cell_type": "markdown",
   "id": "a79a8df4-321c-4ad5-96e7-0ba7046a774e",
   "metadata": {
    "tags": []
   },
   "source": [
    "## 5. Starting a `real-time` processing script"
   ]
  },
  {
   "cell_type": "markdown",
   "id": "fbccfb87-4a3b-4abb-bd78-7a0c939f4518",
   "metadata": {},
   "source": [
    "Running real-time scripts requires more information. Apart from proving the necessary parameters (in the form of a json string), you need to specific an execution block. Real time scripts are only executed if they are part of a schedule, which are defined by execution blocks. We will use the [test-realtime processing script](https://developer.skao.int/projects/ska-sdp-script/en/latest/test-scripts/test-realtime.html) for demonstration. But if you are interested in running the visibility receive one, follow the instructions on the [script's documentation page](https://developer.skao.int/projects/ska-sdp-script/en/latest/scripts/vis-receive.html), and see how you can run it with the ska-sdp [CLI](https://developer.skao.int/projects/ska-sdp-script/en/latest/scripts/vis-receive.html#cli-bash). "
   ]
  },
  {
   "cell_type": "code",
   "execution_count": 26,
   "id": "d5713a92-a099-4303-ada8-f658cae32eb4",
   "metadata": {},
   "outputs": [
    {
     "name": "stdout",
     "output_type": "stream",
     "text": [
      "Execution block created with eb_id: eb-sdpcli-20220729-00000\n",
      "The EB can be ended by running: ska-sdp end eb eb-sdpcli-20220729-00000\n",
      "Processing block created with pb_id: pb-sdpcli-20220729-00000\n"
     ]
    }
   ],
   "source": [
    "!ska-sdp create pb realtime:test-realtime:0.3.0 --eb=\"{\\\n",
    "  'scan_types': [\\\n",
    "    {\\\n",
    "      'id': 'science_A',\\\n",
    "      'coordinate_system': 'ICRS', 'ra': '02:42:40.771', 'dec': '-00:00:47.84',\\\n",
    "      'channels': [\\\n",
    "        { 'count': 5, 'start': 0, 'stride': 2, 'freq_min': 0.35e9, 'freq_max': 0.368e9, 'link_map': [[0,0], [200,1], [744,2], [944,3]] }\\\n",
    "      ]\\\n",
    "    },\\\n",
    "    {\\\n",
    "      'id': 'calibration_B',\\\n",
    "      'coordinate_system': 'ICRS', 'ra': '12:29:06.699', 'dec': '02:03:08.598',\\\n",
    "      'channels': [\\\n",
    "        { 'count': 5, 'start': 0, 'stride': 2, 'freq_min': 0.35e9, 'freq_max': 0.368e9, 'link_map': [[0,0], [200,1], [744,2], [944,3]] }\\\n",
    "      ]\\\n",
    "    }\\\n",
    "  ]\\\n",
    "}\""
   ]
  },
  {
   "cell_type": "code",
   "execution_count": 27,
   "id": "af2c5757-874e-4061-b286-210cee667c87",
   "metadata": {},
   "outputs": [
    {
     "name": "stdout",
     "output_type": "stream",
     "text": [
      "Keys with prefix /: \n",
      "/deploy/proc-pb-sdpcli-20220729-00000-script\n",
      "/eb/eb-sdpcli-20220729-00000\n",
      "/lmc/controller\n",
      "/lmc/subarray/01\n",
      "/pb/pb-sdpcli-20220729-00000\n",
      "/pb/pb-sdpcli-20220729-00000/owner\n",
      "/pb/pb-sdpcli-20220729-00000/state\n",
      "/script/batch:test-batch:0.3.0\n",
      "/script/batch:test-daliuge:0.3.0\n",
      "/script/batch:test-dask:0.3.0\n",
      "/script/realtime:pss-receive:0.3.0\n",
      "/script/realtime:test-realtime:0.3.0\n",
      "/script/realtime:test-receive-addresses:0.4.0\n",
      "/script/realtime:vis-receive:0.5.0\n",
      "/script/realtime:vis-receive:0.5.1\n"
     ]
    }
   ],
   "source": [
    "# Let's take a look at the entries in the DB\n",
    "!ska-sdp list -a"
   ]
  },
  {
   "cell_type": "markdown",
   "id": "779a5985-8aa2-4b2a-9b7e-45140745b616",
   "metadata": {},
   "source": [
    "Now we have a deploymen (/deploy), a set of processing blocks (/pb), and an execution block (/eb). The processing script will run as long as the execution block is running. We need to end it in order to end the processing."
   ]
  },
  {
   "cell_type": "code",
   "execution_count": 33,
   "id": "e66bc0b8-e6a0-4130-b656-b5666e70b22d",
   "metadata": {},
   "outputs": [
    {
     "name": "stdout",
     "output_type": "stream",
     "text": [
      "/pb/pb-sdpcli-20220729-00000/state = {\n",
      "  \"deployments\": {},\n",
      "  \"resources_available\": true,\n",
      "  \"status\": \"RUNNING\"\n",
      "}\n"
     ]
    }
   ],
   "source": [
    "# First, let's check that the script is runing \n",
    "!ska-sdp get /pb/pb-sdpcli-20220729-00000/state"
   ]
  },
  {
   "cell_type": "code",
   "execution_count": 34,
   "id": "a7fa1026-0253-4742-94a1-67417ff47408",
   "metadata": {},
   "outputs": [
    {
     "name": "stdout",
     "output_type": "stream",
     "text": [
      "EB eb-sdpcli-20220729-00000 FINISHED \n"
     ]
    }
   ],
   "source": [
    "# Now let's end the eb; you may copy the command in the output of the create command\n",
    "!ska-sdp end eb eb-sdpcli-20220729-00000"
   ]
  },
  {
   "cell_type": "code",
   "execution_count": 36,
   "id": "23baf716-fbfd-4782-8669-d9d0071a9c1e",
   "metadata": {},
   "outputs": [
    {
     "name": "stdout",
     "output_type": "stream",
     "text": [
      "/pb/pb-sdpcli-20220729-00000/state = {\n",
      "  \"deployments\": {},\n",
      "  \"resources_available\": true,\n",
      "  \"status\": \"FINISHED\"\n",
      "}\n"
     ]
    }
   ],
   "source": [
    "# Now the state of the pb is \"FINISHED\"\n",
    "!ska-sdp get /pb/pb-sdpcli-20220729-00000/state"
   ]
  },
  {
   "cell_type": "code",
   "execution_count": 37,
   "id": "e615155d-01bb-4dca-bef7-cdb6052fe2e6",
   "metadata": {},
   "outputs": [
    {
     "name": "stdout",
     "output_type": "stream",
     "text": [
      "Keys with prefix /: \n",
      "/deploy/proc-pb-sdpcli-20220729-00000-script\n",
      "/eb/eb-sdpcli-20220729-00000\n",
      "/lmc/controller\n",
      "/lmc/subarray/01\n",
      "/pb/pb-sdpcli-20220729-00000\n",
      "/pb/pb-sdpcli-20220729-00000/state\n",
      "/script/batch:test-batch:0.3.0\n",
      "/script/batch:test-daliuge:0.3.0\n",
      "/script/batch:test-dask:0.3.0\n",
      "/script/realtime:pss-receive:0.3.0\n",
      "/script/realtime:test-realtime:0.3.0\n",
      "/script/realtime:test-receive-addresses:0.4.0\n",
      "/script/realtime:vis-receive:0.5.0\n",
      "/script/realtime:vis-receive:0.5.1\n"
     ]
    }
   ],
   "source": [
    "!ska-sdp list -a"
   ]
  },
  {
   "cell_type": "markdown",
   "id": "b08fadee-0dfc-4497-a825-594b2ccde205",
   "metadata": {},
   "source": [
    "You can see that the entries are still in the Config DB, so let's clean up."
   ]
  },
  {
   "cell_type": "code",
   "execution_count": 38,
   "id": "16940512-1d4f-447c-8d71-ed32f7f87e03",
   "metadata": {},
   "outputs": [
    {
     "name": "stdout",
     "output_type": "stream",
     "text": [
      "/pb/pb-sdpcli-20220729-00000\n",
      "/pb/pb-sdpcli-20220729-00000/state\n",
      "Deleted above keys with prefix /pb/pb-sdpcli-20220729-00000.\n"
     ]
    }
   ],
   "source": [
    "# First delete the pb and with that the deployment\n",
    "!ska-sdp delete pb pb-sdpcli-20220729-00000"
   ]
  },
  {
   "cell_type": "code",
   "execution_count": 39,
   "id": "12a33149-2106-4335-8078-354e78eade9b",
   "metadata": {},
   "outputs": [
    {
     "name": "stdout",
     "output_type": "stream",
     "text": [
      "/eb/eb-sdpcli-20220729-00000\n",
      "Deleted above keys with prefix /eb/eb-sdpcli-20220729-00000.\n"
     ]
    }
   ],
   "source": [
    "# Then delete the execution block\n",
    "!ska-sdp delete eb eb-sdpcli-20220729-00000"
   ]
  },
  {
   "cell_type": "markdown",
   "id": "a216d264-efb1-4ee1-9d58-e5942f5b87e1",
   "metadata": {},
   "source": [
    "## 6. `Import` or `create` processing script definitions"
   ]
  },
  {
   "cell_type": "markdown",
   "id": "a7dd4fc3-6ab8-451c-9d3c-352759925ac0",
   "metadata": {},
   "source": [
    "You are welcome to build your own processing scripts (instructions on how you can do that can be found in the [Processing Scripts documentation](https://developer.skao.int/projects/ska-sdp-script/en/latest/script-development.html)). Once you have the docker image present (ideally in an online repository, like GitLab provides for every project), you can run that in SDP once you added some details to the Configuration DB. This is what the `ska-sdp import` command is used for."
   ]
  },
  {
   "cell_type": "code",
   "execution_count": 40,
   "id": "149d8091-f201-4971-a3ae-3d927dbed371",
   "metadata": {},
   "outputs": [
    {
     "name": "stdout",
     "output_type": "stream",
     "text": [
      "Import processing script definitions into the Configuration Database.\n",
      "\n",
      "Usage:\n",
      "    ska-sdp import scripts [options] <file-or-url>\n",
      "    ska-sdp import (-h|--help)\n",
      "\n",
      "Arguments:\n",
      "    <file-or-url>      File or URL to import script definitions from.\n",
      "\n",
      "Options:\n",
      "    -h, --help          Show this screen\n",
      "    --sync              Delete scripts not in the input\n"
     ]
    }
   ],
   "source": [
    "!ska-sdp import --help"
   ]
  },
  {
   "cell_type": "markdown",
   "id": "7c62e51d-0328-4902-a471-df2422d72b22",
   "metadata": {},
   "source": [
    "According to the help, you can import scripts from a file or from a URL. There are examples of what structure the files need to contain at the [CLI documentation](https://developer.skao.int/projects/ska-sdp-config/en/latest/cli.html#example-script-definitions-file-content-for-import). "
   ]
  },
  {
   "cell_type": "markdown",
   "id": "621f4bda-d361-4055-908d-47596cd96f1e",
   "metadata": {},
   "source": [
    "A simpler way of adding information, especially if you only need to do it for one script definition, is to use the `ska-sdp create` command.\n",
    "\n",
    "    ska-sdp create [options] (script|eb) <item-id> <value>\n",
    "    \n",
    "where `item-id` needs to have the format of <kind>:<name>:<version>, e.g. `realtime:test-script:0.1.0`\n",
    "and `value` is a json string in the form of `'{\"image\": \"<url-to-image>/test-script:0.1.0\"}'`\n",
    "\n",
    "Let's create one for a fake docker image (we won't be able to run with SDP)."
   ]
  },
  {
   "cell_type": "code",
   "execution_count": 42,
   "id": "7d409139-d6e7-4d78-b448-1f3e1e44d332",
   "metadata": {},
   "outputs": [
    {
     "name": "stdout",
     "output_type": "stream",
     "text": [
      "/script/batch:my-test-image:0.0.1 created\n"
     ]
    }
   ],
   "source": [
    "!ska-sdp create script batch:my-test-image:0.0.1 '{\"image\":random-image-url:0.0.1}'"
   ]
  },
  {
   "cell_type": "code",
   "execution_count": 43,
   "id": "c56ac1ce-b4c0-4e70-8504-77e814e739e6",
   "metadata": {},
   "outputs": [
    {
     "name": "stdout",
     "output_type": "stream",
     "text": [
      "/script/batch:my-test-image:0.0.1 = {\"image\":random-image-url:0.0.1}\n"
     ]
    }
   ],
   "source": [
    "# now let's see that is in the DB and its value is what we specified\n",
    "!ska-sdp get /script/batch:my-test-image:0.0.1"
   ]
  },
  {
   "cell_type": "markdown",
   "id": "1bf088aa-e01b-464d-b81d-5fa83a26cc11",
   "metadata": {},
   "source": [
    "Now SDP will be able to discover the script and execute it."
   ]
  },
  {
   "cell_type": "code",
   "execution_count": null,
   "id": "c9644767-2a8f-43c3-8db4-890facbf3049",
   "metadata": {},
   "outputs": [],
   "source": []
  }
 ],
 "metadata": {
  "kernelspec": {
   "display_name": "Python 3 (ipykernel)",
   "language": "python",
   "name": "python3"
  },
  "language_info": {
   "codemirror_mode": {
    "name": "ipython",
    "version": 3
   },
   "file_extension": ".py",
   "mimetype": "text/x-python",
   "name": "python",
   "nbconvert_exporter": "python",
   "pygments_lexer": "ipython3",
   "version": "3.10.5"
  }
 },
 "nbformat": 4,
 "nbformat_minor": 5
}