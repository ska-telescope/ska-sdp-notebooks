{
 "cells": [
  {
   "cell_type": "code",
   "execution_count": null,
   "id": "079e3730-805d-4dc4-af98-1376dbda32df",
   "metadata": {},
   "outputs": [],
   "source": [
    "import ska_sdp_config\n",
    "import datetime\n",
    "import os\n",
    "import dask\n",
    "import logging\n",
    "import sys\n",
    "\n",
    "TIME_FORMAT = \"%Y-%m-%d %H:%M:%S\"\n",
    "\n",
    "LOG = logging.getLogger(__name__)"
   ]
  },
  {
   "cell_type": "code",
   "execution_count": null,
   "id": "f2ae6116-a695-4067-a6da-0885a8c7f5b4",
   "metadata": {},
   "outputs": [],
   "source": [
    "!pip uninstall ska-sdp-scripting -y\n",
    "!pip install -U git+https://gitlab.com/ska-telescope/sdp/ska-sdp-scripting@sp-1667-notebook-script | grep -v \"Requirement already\"\n",
    "import ska_sdp_scripting"
   ]
  },
  {
   "cell_type": "code",
   "execution_count": null,
   "id": "e663a133-e049-4d53-b903-0059c2349a20",
   "metadata": {},
   "outputs": [],
   "source": [
    "NAMESPACE = \"dp-dppt-peter\"  # add the namespace you want to connect to here\n",
    "cfg = ska_sdp_config.Config(host=f\"ska-sdp-etcd-client.{NAMESPACE}\")"
   ]
  },
  {
   "cell_type": "code",
   "execution_count": null,
   "id": "a03cca04-328d-4410-941b-9b5cfc485056",
   "metadata": {},
   "outputs": [],
   "source": [
    "for txn in cfg.txn():\n",
    "    print(txn.list_processing_blocks())"
   ]
  },
  {
   "cell_type": "code",
   "execution_count": null,
   "id": "ee06c851-1989-4190-939b-ea73adda6e96",
   "metadata": {},
   "outputs": [],
   "source": [
    "image = os.environ['JUPYTER_IMAGE_SPEC']\n",
    "cpos = image.rindex(':')\n",
    "image_name = image[:cpos]\n",
    "image_ver = image[cpos+1:]\n",
    "script = dict(kind='batch', name=image_name, version=image_ver)\n",
    "pb = ska_sdp_scripting.ProcessingBlock(None, script, None, cfg)"
   ]
  },
  {
   "cell_type": "code",
   "execution_count": null,
   "id": "0555d20c-c4fc-410b-ad7b-47e1a803d7e9",
   "metadata": {},
   "outputs": [],
   "source": [
    "for txn in cfg.txn():\n",
    "    print(txn.list_processing_blocks())"
   ]
  },
  {
   "cell_type": "code",
   "execution_count": null,
   "id": "4e528f4b-79a2-4072-af05-63a56c067a18",
   "metadata": {},
   "outputs": [],
   "source": [
    "\n",
    "def inc(x_i):\n",
    "    time.sleep(2)\n",
    "    return x_i + 1\n",
    "\n",
    "def dec(y_i):\n",
    "    time.sleep(2)\n",
    "    return y_i - 1\n",
    "\n",
    "def add(x, y):\n",
    "    x1 = inc(x)\n",
    "    y1 = dec(y)\n",
    "    time.sleep(2)\n",
    "    z = x1 + y1\n",
    "    return z\n",
    "\n",
    "def calc(x, y):\n",
    "    # This is the top-level function that returns the Dask graph to be executed\n",
    "    # by the execution engine. It will be called by the EE interface to\n",
    "    # construct the graph, then the graph will be executed on the Dask\n",
    "    # deployment by calling its 'compute' method.\n",
    "    x1 = dask.delayed(inc)(x)\n",
    "    y1 = dask.delayed(dec)(y)\n",
    "    z = dask.delayed(add)(x1, y1)\n",
    "    return z\n"
   ]
  },
  {
   "cell_type": "code",
   "execution_count": null,
   "id": "1d7f863f-0b70-45e9-9503-58ecbf84bd95",
   "metadata": {},
   "outputs": [],
   "source": [
    "helm_values = { \"image\": os.environ['JUPYTER_IMAGE'] }\n",
    "helm_values"
   ]
  },
  {
   "cell_type": "code",
   "execution_count": null,
   "id": "6a1ef6d5-e8ad-4b64-a1c6-ae173fbbeda3",
   "metadata": {},
   "outputs": [],
   "source": [
    "\n",
    "n_workers = 3\n",
    "\n",
    "work_phase = pb.create_phase(\"Work\", [])\n"
   ]
  },
  {
   "cell_type": "code",
   "execution_count": null,
   "id": "94534759-3b91-439b-b11b-6b4a38d457f2",
   "metadata": {},
   "outputs": [],
   "source": [
    "with work_phase:\n",
    "\n",
    "    # Deploy two instances of a Dask EE\n",
    "    deploy1 = work_phase.ee_deploy_dask(\"dask-1\", n_workers, calc, (1, 5), helm_values)\n",
    "    #deploy2 = work_phase.ee_deploy_dask(\"dask-2\", n_workers, calc, (1, 7))\n",
    "\n",
    "    # Wait until deployments are finished or PB is cancelled\n",
    "    for txn in work_phase.wait_loop():\n",
    "        if deploy1.is_finished(txn): # and deploy2.is_finished(txn):\n",
    "            break\n",
    "        txn.loop(wait=True)"
   ]
  }
 ],
 "metadata": {
  "kernelspec": {
   "display_name": "Python 3 (ipykernel)",
   "language": "python",
   "name": "python3"
  },
  "language_info": {
   "codemirror_mode": {
    "name": "ipython",
    "version": 3
   },
   "file_extension": ".py",
   "mimetype": "text/x-python",
   "name": "python",
   "nbconvert_exporter": "python",
   "pygments_lexer": "ipython3",
   "version": "3.7.3"
  }
 },
 "nbformat": 4,
 "nbformat_minor": 5
}
